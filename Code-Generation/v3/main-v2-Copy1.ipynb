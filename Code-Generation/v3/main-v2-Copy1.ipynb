{
 "cells": [
  {
   "cell_type": "code",
   "execution_count": 1,
   "metadata": {},
   "outputs": [],
   "source": [
    "import numpy as np\n",
    "import pandas as pd\n",
    "\n",
    "from Compos_DF import ComposDF\n",
    "from Compo_HTML import *\n",
    "from Block import *\n",
    "import draw"
   ]
  },
  {
   "cell_type": "code",
   "execution_count": 2,
   "metadata": {},
   "outputs": [],
   "source": [
    "name = 'data/9'\n",
    "compos = ComposDF(name + '.json', name + '.png')\n",
    "img = compos.img.copy()\n",
    "img_shape = compos.img_shape"
   ]
  },
  {
   "cell_type": "code",
   "execution_count": 3,
   "metadata": {},
   "outputs": [],
   "source": [
    "compos.repetitive_group_recognition()\n",
    "compos.pair_groups()\n",
    "compos.list_item_partition()"
   ]
  },
  {
   "cell_type": "code",
   "execution_count": 4,
   "metadata": {},
   "outputs": [],
   "source": [
    "blocks = gather_blocks(compos.compos_dataframe)\n",
    "block = blocks[0]\n",
    "block.group_list_items()\n",
    "list_item = block.list_item_groups[0]"
   ]
  },
  {
   "cell_type": "code",
   "execution_count": 9,
   "metadata": {},
   "outputs": [],
   "source": [
    "alignment = list_item.iloc[0]['alignment_item']\n",
    "if alignment == 'h':\n",
    "    list_item = list_item.sort_values('column_min')\n",
    "if alignment == 'v':\n",
    "    list_item = list_item.sort_values('row_min')\n",
    "    \n",
    "for i in range(len(list_item)):\n",
    "    if i == 0:\n",
    "        continue\n",
    "    item = list_item.iloc[i]\n",
    "    if alignment == 'h':\n",
    "        html = CompoHTML(item, margin_left = int(item['column_min'] - list_item.iloc[i - 1]['column_max']))"
   ]
  },
  {
   "cell_type": "code",
   "execution_count": 10,
   "metadata": {},
   "outputs": [
    {
     "data": {
      "text/plain": [
       "'{\\n    \"margin-left\": 6;\\n    \"background\": \"green\"\\n}'"
      ]
     },
     "execution_count": 10,
     "metadata": {},
     "output_type": "execute_result"
    }
   ],
   "source": [
    "html.css"
   ]
  },
  {
   "cell_type": "code",
   "execution_count": null,
   "metadata": {},
   "outputs": [],
   "source": []
  }
 ],
 "metadata": {
  "kernelspec": {
   "display_name": "Python 3",
   "language": "python",
   "name": "python3"
  },
  "language_info": {
   "codemirror_mode": {
    "name": "ipython",
    "version": 3
   },
   "file_extension": ".py",
   "mimetype": "text/x-python",
   "name": "python",
   "nbconvert_exporter": "python",
   "pygments_lexer": "ipython3",
   "version": "3.5.6"
  }
 },
 "nbformat": 4,
 "nbformat_minor": 2
}
