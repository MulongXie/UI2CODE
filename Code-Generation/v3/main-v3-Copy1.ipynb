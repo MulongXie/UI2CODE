{
 "cells": [
  {
   "cell_type": "code",
   "execution_count": 1,
   "metadata": {},
   "outputs": [],
   "source": [
    "import numpy as np\n",
    "import pandas as pd\n",
    "\n",
    "from obj.Compos_DF import ComposDF\n",
    "from obj.Compo_HTML import *\n",
    "from obj.List import *\n",
    "import lib.draw as draw"
   ]
  },
  {
   "cell_type": "code",
   "execution_count": 2,
   "metadata": {},
   "outputs": [],
   "source": [
    "name = 'data/9'\n",
    "compos = ComposDF(name + '.json', name + '.png')\n",
    "img = compos.img.copy()\n",
    "img_shape = compos.img_shape"
   ]
  },
  {
   "cell_type": "code",
   "execution_count": 3,
   "metadata": {
    "scrolled": true
   },
   "outputs": [],
   "source": [
    "compos.repetitive_group_recognition()    # group_nontext, group_text\n",
    "compos.pair_groups()                     # pair, pair_to, group\n",
    "compos.list_item_partition()             # list_item"
   ]
  },
  {
   "cell_type": "code",
   "execution_count": 4,
   "metadata": {},
   "outputs": [],
   "source": [
    "# compos.visualize_block('group')\n",
    "# compos.visualize_block('pair')"
   ]
  },
  {
   "cell_type": "code",
   "execution_count": 5,
   "metadata": {},
   "outputs": [],
   "source": [
    "lists = gather_lists(compos.compos_dataframe)"
   ]
  },
  {
   "cell_type": "code",
   "execution_count": 6,
   "metadata": {
    "scrolled": true
   },
   "outputs": [],
   "source": [
    "for i, li in enumerate(lists):\n",
    "    li.generate_list_html()\n",
    "    li.generate_list_css()"
   ]
  },
  {
   "cell_type": "code",
   "execution_count": 10,
   "metadata": {},
   "outputs": [
    {
     "name": "stdout",
     "output_type": "stream",
     "text": [
      "<ul>\n",
      "\t<li>\n",
      "\t\t<div \"class=nt-9\">\n",
      "\t\t</div>\n",
      "\t\t<div \"class=t-2\">\n",
      "\t\t</div>\n",
      "\t</li>\n",
      "\t<li>\n",
      "\t\t<div \"class=nt-9\">\n",
      "\t\t</div>\n",
      "\t\t<div \"class=t-2\">\n",
      "\t\t</div>\n",
      "\t</li>\n",
      "\t<li>\n",
      "\t\t<div \"class=nt-9\">\n",
      "\t\t</div>\n",
      "\t\t<div \"class=t-2\">\n",
      "\t\t</div>\n",
      "\t</li>\n",
      "\t<li>\n",
      "\t\t<div \"class=nt-9\">\n",
      "\t\t</div>\n",
      "\t\t<div \"class=t-2\">\n",
      "\t\t</div>\n",
      "\t</li>\n",
      "\t<li>\n",
      "\t\t<div \"class=nt-9\">\n",
      "\t\t</div>\n",
      "\t\t<div \"class=t-2\">\n",
      "\t\t</div>\n",
      "\t</li>\n",
      "</ul>\n",
      "\n"
     ]
    }
   ],
   "source": [
    "print(lists[3].list_html)"
   ]
  },
  {
   "cell_type": "code",
   "execution_count": null,
   "metadata": {},
   "outputs": [],
   "source": []
  }
 ],
 "metadata": {
  "kernelspec": {
   "display_name": "Python 3",
   "language": "python",
   "name": "python3"
  },
  "language_info": {
   "codemirror_mode": {
    "name": "ipython",
    "version": 3
   },
   "file_extension": ".py",
   "mimetype": "text/x-python",
   "name": "python",
   "nbconvert_exporter": "python",
   "pygments_lexer": "ipython3",
   "version": "3.5.6"
  }
 },
 "nbformat": 4,
 "nbformat_minor": 2
}
