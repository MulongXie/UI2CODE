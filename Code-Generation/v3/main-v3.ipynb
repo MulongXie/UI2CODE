{
 "cells": [
  {
   "cell_type": "code",
   "execution_count": 1,
   "metadata": {},
   "outputs": [],
   "source": [
    "import numpy as np\n",
    "import pandas as pd\n",
    "\n",
    "from Compos_DF import ComposDF\n",
    "from Compo_HTML import *\n",
    "from Block import *\n",
    "import draw"
   ]
  },
  {
   "cell_type": "code",
   "execution_count": 2,
   "metadata": {},
   "outputs": [],
   "source": [
    "name = 'data/9'\n",
    "compos = ComposDF(name + '.json', name + '.png')\n",
    "img = compos.img.copy()\n",
    "img_shape = compos.img_shape"
   ]
  },
  {
   "cell_type": "code",
   "execution_count": 3,
   "metadata": {},
   "outputs": [],
   "source": [
    "compos.repetitive_group_recognition()\n",
    "compos.pair_groups()\n",
    "compos.list_item_partition()"
   ]
  },
  {
   "cell_type": "code",
   "execution_count": 4,
   "metadata": {},
   "outputs": [],
   "source": [
    "blocks = gather_blocks(compos.compos_dataframe)\n",
    "block = blocks[0]\n",
    "block.group_list_items()\n",
    "block.generate_element_html()"
   ]
  },
  {
   "cell_type": "code",
   "execution_count": 5,
   "metadata": {},
   "outputs": [
    {
     "data": {
      "text/plain": [
       "[<Compo_HTML.CompoHTML at 0x2d19c8662b0>,\n",
       " <Compo_HTML.CompoHTML at 0x2d19c89e080>,\n",
       " <Compo_HTML.CompoHTML at 0x2d19c89e358>,\n",
       " <Compo_HTML.CompoHTML at 0x2d19c89e400>,\n",
       " <Compo_HTML.CompoHTML at 0x2d19c89e588>,\n",
       " <Compo_HTML.CompoHTML at 0x2d19c866a58>]"
      ]
     },
     "execution_count": 5,
     "metadata": {},
     "output_type": "execute_result"
    }
   ],
   "source": [
    "block.compos_html"
   ]
  },
  {
   "cell_type": "code",
   "execution_count": null,
   "metadata": {},
   "outputs": [],
   "source": []
  }
 ],
 "metadata": {
  "kernelspec": {
   "display_name": "Python 3",
   "language": "python",
   "name": "python3"
  },
  "language_info": {
   "codemirror_mode": {
    "name": "ipython",
    "version": 3
   },
   "file_extension": ".py",
   "mimetype": "text/x-python",
   "name": "python",
   "nbconvert_exporter": "python",
   "pygments_lexer": "ipython3",
   "version": "3.5.6"
  }
 },
 "nbformat": 4,
 "nbformat_minor": 2
}
