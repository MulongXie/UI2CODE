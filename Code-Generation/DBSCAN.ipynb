{
 "cells": [
  {
   "cell_type": "code",
   "execution_count": 16,
   "metadata": {},
   "outputs": [],
   "source": [
    "import json\n",
    "import pandas as pd\n",
    "import numpy as np\n",
    "import matplotlib.pyplot as plt\n",
    "import cv2"
   ]
  },
  {
   "cell_type": "code",
   "execution_count": 2,
   "metadata": {},
   "outputs": [],
   "source": [
    "def read_compos(file='compo.json'):\n",
    "    compos = json.load(open(file))['compos']\n",
    "    df = pd.DataFrame(columns=['id', 'column_min', 'column_max', 'row_min', 'row_max', 'center', 'height', 'width', 'area', 'class'])\n",
    "    for i, compo in enumerate(compos):\n",
    "        compo['area'] = compo['height'] * compo['width']\n",
    "        compo['center'] = ((compo['column_min'] + compo['column_max'])/2, (compo['row_min'] + compo['row_max'])/2)\n",
    "        df.loc[i] = compo\n",
    "    df = df[df['class'] != 'TextView']\n",
    "    return df"
   ]
  },
  {
   "cell_type": "code",
   "execution_count": 3,
   "metadata": {},
   "outputs": [],
   "source": [
    "def draw(org, compos, opt='class'):\n",
    "    img_h, img_w = compos.iloc[0].height, compos.iloc[0].width\n",
    "    img = cv2.resize(org, (img_w, img_h))\n",
    "    board = img.copy()\n",
    "    for i in range(len(compos)):\n",
    "        compo = compos.iloc[i]\n",
    "        board = cv2.rectangle(board, (compo.column_min, compo.row_min), (compo.column_max, compo.row_max), (255,0,0))\n",
    "        board = cv2.putText(board, str(compo[opt]), (compo.column_min+5, compo.row_min+20), cv2.FONT_HERSHEY_SIMPLEX, 0.4, (0,0,255), 1)\n",
    "    \n",
    "    cv2.imshow('board', board)\n",
    "    cv2.waitKey()\n",
    "    cv2.destroyAllWindows()"
   ]
  },
  {
   "cell_type": "code",
   "execution_count": 4,
   "metadata": {},
   "outputs": [],
   "source": [
    "def inspect_data(compos):\n",
    "    import matplotlib.pyplot as plt\n",
    "    plt.xlim(xmax=10000)\n",
    "    plt.scatter(list(compos['area']), list(compos['id']))"
   ]
  },
  {
   "cell_type": "code",
   "execution_count": 9,
   "metadata": {},
   "outputs": [],
   "source": [
    "def dbscan_clustering_by_area(org, compos):\n",
    "    x = np.reshape(list(compos['area']), (-1, 1))\n",
    "    from sklearn.cluster import DBSCAN\n",
    "    clustering = DBSCAN(eps=200, min_samples=1).fit(x)\n",
    "    clustering.labels_\n",
    "    compos['cluster'] = clustering.labels_\n",
    "    draw(org, compos, 'cluster')\n",
    "    return max(compos['cluster'])"
   ]
  },
  {
   "cell_type": "code",
   "execution_count": 10,
   "metadata": {},
   "outputs": [],
   "source": [
    "compos = read_compos()\n",
    "org = cv2.imread('9.png')\n",
    "# draw(org, compos)"
   ]
  },
  {
   "cell_type": "code",
   "execution_count": 22,
   "metadata": {},
   "outputs": [
    {
     "name": "stdout",
     "output_type": "stream",
     "text": [
      "Int64Index([0], dtype='int64')\n",
      "(317.5, 400.0)\n",
      "Int64Index([1], dtype='int64')\n",
      "(316.5, 5.0)\n",
      "Int64Index([3], dtype='int64')\n",
      "(283.5, 31.0)\n",
      "Int64Index([4, 5, 6, 16, 26, 28, 29, 30, 31, 32, 33, 34, 83], dtype='int64')\n",
      "(529.0, 31.5)\n",
      "(582.0, 32.0)\n",
      "(38.0, 58.0)\n",
      "(468.5, 182.0)\n",
      "(550.0, 226.5)\n",
      "(509.0, 247.0)\n",
      "(549.5, 243.0)\n",
      "(470.0, 243.5)\n",
      "(590.0, 243.5)\n",
      "(469.0, 256.5)\n",
      "(545.5, 256.5)\n",
      "(587.5, 256.5)\n",
      "(228.0, 774.0)\n",
      "Int64Index([14], dtype='int64')\n",
      "(535.5, 128.5)\n",
      "Int64Index([15], dtype='int64')\n",
      "(228.0, 153.5)\n",
      "Int64Index([19, 20, 21, 22, 23], dtype='int64')\n",
      "(62.5, 243.5)\n",
      "(145.5, 243.5)\n",
      "(228.0, 243.5)\n",
      "(310.5, 243.5)\n",
      "(393.5, 243.5)\n",
      "Int64Index([40, 49, 57, 66, 71, 76, 80], dtype='int64')\n",
      "(74.5, 319.0)\n",
      "(74.5, 388.0)\n",
      "(74.5, 456.0)\n",
      "(74.5, 524.5)\n",
      "(74.5, 593.0)\n",
      "(74.5, 661.0)\n",
      "(74.5, 730.0)\n",
      "Int64Index([42, 47, 52], dtype='int64')\n",
      "(476.5, 316.5)\n",
      "(476.5, 356.5)\n",
      "(476.5, 395.5)\n",
      "Int64Index([84], dtype='int64')\n",
      "(521.5, 137.5)\n",
      "Int64Index([85], dtype='int64')\n",
      "(350.5, 152.5)\n"
     ]
    }
   ],
   "source": [
    "groups = compos.groupby('cluster').groups\n",
    "for g in groups:\n",
    "    print(groups[g])\n",
    "    for i in groups[g]:\n",
    "        print(compos.loc[i].center)"
   ]
  },
  {
   "cell_type": "code",
   "execution_count": null,
   "metadata": {},
   "outputs": [],
   "source": []
  }
 ],
 "metadata": {
  "kernelspec": {
   "display_name": "Python 3",
   "language": "python",
   "name": "python3"
  },
  "language_info": {
   "codemirror_mode": {
    "name": "ipython",
    "version": 3
   },
   "file_extension": ".py",
   "mimetype": "text/x-python",
   "name": "python",
   "nbconvert_exporter": "python",
   "pygments_lexer": "ipython3",
   "version": "3.5.6"
  }
 },
 "nbformat": 4,
 "nbformat_minor": 2
}
