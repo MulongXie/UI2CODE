{
 "cells": [
  {
   "cell_type": "code",
   "execution_count": 1,
   "metadata": {},
   "outputs": [],
   "source": [
    "import numpy as np\n",
    "import pandas as pd\n",
    "\n",
    "from obj.Compos_DF import ComposDF\n",
    "from obj.Compo_HTML import *\n",
    "from obj.List import *\n",
    "from obj.Block import *\n",
    "import lib.draw as draw\n",
    "from obj.Page import Page"
   ]
  },
  {
   "cell_type": "code",
   "execution_count": 2,
   "metadata": {},
   "outputs": [],
   "source": [
    "name = 'data/9'\n",
    "compos = ComposDF(name + '.json', name + '.png')\n",
    "img = compos.img.copy()\n",
    "img_shape = compos.img_shape\n",
    "img_re = cv2.resize(img, img_shape)"
   ]
  },
  {
   "cell_type": "code",
   "execution_count": 3,
   "metadata": {
    "scrolled": true
   },
   "outputs": [],
   "source": [
    "compos.repetitive_group_recognition()    # group_nontext, group_text\n",
    "compos.pair_groups()                     # pair, pair_to, group\n",
    "compos.list_item_partition()             # list_item\n",
    "# compos.visualize_block('group')\n",
    "# compos.visualize_block('pair')"
   ]
  },
  {
   "cell_type": "code",
   "execution_count": 4,
   "metadata": {},
   "outputs": [],
   "source": [
    "lists, non_listed_compos = gather_lists_by_pair_and_group(compos.compos_dataframe[1:])\n",
    "generate_lists_html_css(lists)\n",
    "# compos.visualize_block('group')"
   ]
  },
  {
   "cell_type": "code",
   "execution_count": 5,
   "metadata": {
    "scrolled": true
   },
   "outputs": [],
   "source": [
    "compos_html = [li.list_obj for li in lists] + non_listed_compos\n",
    "blocks, non_blocked_compos = slice_blocks(compos_html, 'v')\n",
    "# visualize_blocks(blocks, img, img_shape)"
   ]
  },
  {
   "cell_type": "code",
   "execution_count": 6,
   "metadata": {},
   "outputs": [
    {
     "name": "stdout",
     "output_type": "stream",
     "text": [
      "[<obj.Block.Block object at 0x000002AB857D19E8>, <obj.Block.Block object at 0x000002AB857D1CF8>, <obj.Compo_HTML.CompoHTML object at 0x000002AB857CAE48>]\n",
      "[<obj.Block.Block object at 0x000002AB857D1CF8>, <obj.Compo_HTML.CompoHTML object at 0x000002AB857CAE48>, <obj.Block.Block object at 0x000002AB857D19E8>]\n",
      "[<obj.Block.Block object at 0x000002AB857D1B00>, <obj.Compo_HTML.CompoHTML object at 0x000002AB8484C4A8>, <obj.Compo_HTML.CompoHTML object at 0x000002AB8482E470>]\n",
      "[<obj.Block.Block object at 0x000002AB857D1B00>, <obj.Compo_HTML.CompoHTML object at 0x000002AB8484C4A8>, <obj.Compo_HTML.CompoHTML object at 0x000002AB8482E470>]\n",
      "[<obj.Compo_HTML.CompoHTML object at 0x000002AB8481A2E8>, <obj.Compo_HTML.CompoHTML object at 0x000002AB8481ABA8>]\n",
      "[<obj.Compo_HTML.CompoHTML object at 0x000002AB8481A2E8>, <obj.Compo_HTML.CompoHTML object at 0x000002AB8481ABA8>]\n",
      "[<obj.Block.Block object at 0x000002AB857D1E10>, <obj.Block.Block object at 0x000002AB857D1F28>, <obj.Compo_HTML.CompoHTML object at 0x000002AB8481A4A8>]\n",
      "[<obj.Block.Block object at 0x000002AB857D1E10>, <obj.Compo_HTML.CompoHTML object at 0x000002AB8481A4A8>, <obj.Block.Block object at 0x000002AB857D1F28>]\n",
      "[<obj.Compo_HTML.CompoHTML object at 0x000002AB8481A128>, <obj.Compo_HTML.CompoHTML object at 0x000002AB8481A9E8>]\n",
      "[<obj.Compo_HTML.CompoHTML object at 0x000002AB8481A128>, <obj.Compo_HTML.CompoHTML object at 0x000002AB8481A9E8>]\n",
      "[<obj.Compo_HTML.CompoHTML object at 0x000002AB8483C4E0>, <obj.Compo_HTML.CompoHTML object at 0x000002AB84818240>, <obj.Compo_HTML.CompoHTML object at 0x000002AB857C5470>, <obj.Compo_HTML.CompoHTML object at 0x000002AB8481A668>]\n",
      "[<obj.Compo_HTML.CompoHTML object at 0x000002AB857C5470>, <obj.Compo_HTML.CompoHTML object at 0x000002AB8483C4E0>, <obj.Compo_HTML.CompoHTML object at 0x000002AB8481A668>, <obj.Compo_HTML.CompoHTML object at 0x000002AB84818240>]\n"
     ]
    }
   ],
   "source": [
    "b = blocks[2]\n",
    "# broad = b.visualize_compos(img_re, show=True)\n",
    "# board = b.visualize_sub_blocks(img_re, show=True)\n",
    "broad =b.visualize_sub_blocks_and_compos(img_re, recursive=True)"
   ]
  },
  {
   "cell_type": "code",
   "execution_count": 7,
   "metadata": {},
   "outputs": [
    {
     "data": {
      "text/plain": [
       "[<obj.Block.Block at 0x154f1714ba8>,\n",
       " <obj.Compo_HTML.CompoHTML at 0x154f1707160>,\n",
       " <obj.Block.Block at 0x154f1714898>]"
      ]
     },
     "execution_count": 7,
     "metadata": {},
     "output_type": "execute_result"
    }
   ],
   "source": [
    "sorted(b.sub_blocks + b.compos, key=lambda x: x.top)"
   ]
  },
  {
   "cell_type": "code",
   "execution_count": 9,
   "metadata": {},
   "outputs": [],
   "source": [
    "page = Page()\n",
    "for block in blocks:\n",
    "    page.add_compo(block.html_script, block.css_script)"
   ]
  },
  {
   "cell_type": "code",
   "execution_count": 10,
   "metadata": {},
   "outputs": [],
   "source": [
    "page.export()"
   ]
  }
 ],
 "metadata": {
  "kernelspec": {
   "display_name": "Python 3",
   "language": "python",
   "name": "python3"
  },
  "language_info": {
   "codemirror_mode": {
    "name": "ipython",
    "version": 3
   },
   "file_extension": ".py",
   "mimetype": "text/x-python",
   "name": "python",
   "nbconvert_exporter": "python",
   "pygments_lexer": "ipython3",
   "version": "3.5.6"
  }
 },
 "nbformat": 4,
 "nbformat_minor": 2
}
