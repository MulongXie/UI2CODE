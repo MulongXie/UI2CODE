{
 "cells": [
  {
   "cell_type": "code",
   "execution_count": 1,
   "metadata": {},
   "outputs": [],
   "source": [
    "import numpy as np\n",
    "import pandas as pd\n",
    "\n",
    "from obj.Compos_DF import ComposDF\n",
    "from obj.Compo_HTML import *\n",
    "from obj.List import *\n",
    "from obj.Block import *\n",
    "import lib.draw as draw\n",
    "from obj.Page import Page"
   ]
  },
  {
   "cell_type": "code",
   "execution_count": 2,
   "metadata": {},
   "outputs": [],
   "source": [
    "name = 'data/9'\n",
    "compos = ComposDF(name + '.json', name + '.png')\n",
    "img = compos.img.copy()\n",
    "img_shape = compos.img_shape\n",
    "img_re = cv2.resize(img, img_shape)"
   ]
  },
  {
   "cell_type": "code",
   "execution_count": 3,
   "metadata": {
    "scrolled": true
   },
   "outputs": [],
   "source": [
    "compos.repetitive_group_recognition()    # group_nontext, group_text\n",
    "compos.pair_groups()                     # pair, pair_to, group\n",
    "compos.list_item_partition()             # list_item\n",
    "# compos.visualize_block('group')\n",
    "# compos.visualize_block('pair')"
   ]
  },
  {
   "cell_type": "code",
   "execution_count": 4,
   "metadata": {},
   "outputs": [],
   "source": [
    "lists, non_listed_compos = gather_lists_by_pair_and_group(compos.compos_dataframe[1:])\n",
    "generate_lists_html_css(lists)\n",
    "# compos.visualize_block('group')"
   ]
  },
  {
   "cell_type": "code",
   "execution_count": 5,
   "metadata": {
    "scrolled": true
   },
   "outputs": [],
   "source": [
    "compos_html = [li.list_obj for li in lists] + non_listed_compos\n",
    "blocks, non_blocked_compos = slice_blocks(compos_html, 'v')\n",
    "# visualize_blocks(blocks, img, img_shape)"
   ]
  },
  {
   "cell_type": "code",
   "execution_count": 6,
   "metadata": {},
   "outputs": [
    {
     "name": "stdout",
     "output_type": "stream",
     "text": [
      "[<obj.Block.Block object at 0x000001BFEB853828>, <obj.Block.Block object at 0x000001BFEB853A58>, <obj.Compo_HTML.CompoHTML object at 0x000001BFEB84B5F8>]\n",
      "[<obj.Block.Block object at 0x000001BFEB853A58>, <obj.Compo_HTML.CompoHTML object at 0x000001BFEB84B5F8>, <obj.Block.Block object at 0x000001BFEB853828>]\n",
      "[<obj.Block.Block object at 0x000001BFEB853940>, <obj.Compo_HTML.CompoHTML object at 0x000001BFEA8CE390>, <obj.Compo_HTML.CompoHTML object at 0x000001BFEA8EF3C8>]\n",
      "[<obj.Block.Block object at 0x000001BFEB853940>, <obj.Compo_HTML.CompoHTML object at 0x000001BFEA8EF3C8>, <obj.Compo_HTML.CompoHTML object at 0x000001BFEA8CE390>]\n",
      "[<obj.Compo_HTML.CompoHTML object at 0x000001BFEA8B6240>, <obj.Compo_HTML.CompoHTML object at 0x000001BFEA8B6B00>]\n",
      "[<obj.Compo_HTML.CompoHTML object at 0x000001BFEA8B6240>, <obj.Compo_HTML.CompoHTML object at 0x000001BFEA8B6B00>]\n",
      "[<obj.Block.Block object at 0x000001BFEB853B70>, <obj.Block.Block object at 0x000001BFEB853C50>, <obj.Compo_HTML.CompoHTML object at 0x000001BFEA8B6400>]\n",
      "[<obj.Block.Block object at 0x000001BFEB853B70>, <obj.Compo_HTML.CompoHTML object at 0x000001BFEA8B6400>, <obj.Block.Block object at 0x000001BFEB853C50>]\n",
      "[<obj.Compo_HTML.CompoHTML object at 0x000001BFEA8B6080>, <obj.Compo_HTML.CompoHTML object at 0x000001BFEA8B6940>]\n",
      "[<obj.Compo_HTML.CompoHTML object at 0x000001BFEA8B6080>, <obj.Compo_HTML.CompoHTML object at 0x000001BFEA8B6940>]\n",
      "[<obj.Compo_HTML.CompoHTML object at 0x000001BFEA8DF3C8>, <obj.Compo_HTML.CompoHTML object at 0x000001BFEA8BB160>, <obj.Compo_HTML.CompoHTML object at 0x000001BFEB8453C8>, <obj.Compo_HTML.CompoHTML object at 0x000001BFEA8B65C0>]\n",
      "[<obj.Compo_HTML.CompoHTML object at 0x000001BFEB8453C8>, <obj.Compo_HTML.CompoHTML object at 0x000001BFEA8DF3C8>, <obj.Compo_HTML.CompoHTML object at 0x000001BFEA8B65C0>, <obj.Compo_HTML.CompoHTML object at 0x000001BFEA8BB160>]\n"
     ]
    }
   ],
   "source": [
    "b = blocks[2]\n",
    "# broad = b.visualize_compos(img_re, show=True)\n",
    "# board = b.visualize_sub_blocks(img_re, show=True)\n",
    "broad =b.visualize_sub_blocks_and_compos(img_re, recursive=True)"
   ]
  },
  {
   "cell_type": "code",
   "execution_count": 7,
   "metadata": {},
   "outputs": [
    {
     "data": {
      "text/plain": [
       "[<obj.Block.Block at 0x1bfeb853a58>,\n",
       " <obj.Compo_HTML.CompoHTML at 0x1bfeb84b5f8>,\n",
       " <obj.Block.Block at 0x1bfeb853828>]"
      ]
     },
     "execution_count": 7,
     "metadata": {},
     "output_type": "execute_result"
    }
   ],
   "source": [
    "sorted(b.sub_blocks + b.compos, key=lambda x: x.top)"
   ]
  },
  {
   "cell_type": "code",
   "execution_count": 8,
   "metadata": {},
   "outputs": [],
   "source": [
    "page = Page()\n",
    "for block in blocks:\n",
    "    page.add_compo(block.html_script, block.css_script)"
   ]
  },
  {
   "cell_type": "code",
   "execution_count": 9,
   "metadata": {},
   "outputs": [],
   "source": [
    "page.export()"
   ]
  }
 ],
 "metadata": {
  "kernelspec": {
   "display_name": "Python 3",
   "language": "python",
   "name": "python3"
  },
  "language_info": {
   "codemirror_mode": {
    "name": "ipython",
    "version": 3
   },
   "file_extension": ".py",
   "mimetype": "text/x-python",
   "name": "python",
   "nbconvert_exporter": "python",
   "pygments_lexer": "ipython3",
   "version": "3.5.6"
  }
 },
 "nbformat": 4,
 "nbformat_minor": 2
}
