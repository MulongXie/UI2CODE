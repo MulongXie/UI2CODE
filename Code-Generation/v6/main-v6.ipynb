{
 "cells": [
  {
   "cell_type": "code",
   "execution_count": 1,
   "metadata": {},
   "outputs": [],
   "source": [
    "import numpy as np\n",
    "import pandas as pd\n",
    "\n",
    "from obj.Compos_DF import ComposDF\n",
    "from obj.Compo_HTML import *\n",
    "from obj.List import *\n",
    "from obj.Block import *\n",
    "import lib.draw as draw\n",
    "from obj.Page import Page"
   ]
  },
  {
   "cell_type": "code",
   "execution_count": 2,
   "metadata": {},
   "outputs": [],
   "source": [
    "name = 'data/9'\n",
    "compos = ComposDF(name + '.json', name + '.png')\n",
    "img = compos.img.copy()\n",
    "img_shape = compos.img_shape\n",
    "img_re = cv2.resize(img, img_shape)"
   ]
  },
  {
   "cell_type": "code",
   "execution_count": 3,
   "metadata": {
    "scrolled": true
   },
   "outputs": [],
   "source": [
    "compos.repetitive_group_recognition()    # group_nontext, group_text\n",
    "compos.pair_groups()                     # pair, pair_to, group\n",
    "compos.list_item_partition()             # list_item\n",
    "# compos.visualize_block('group')\n",
    "# compos.visualize_block('pair')"
   ]
  },
  {
   "cell_type": "code",
   "execution_count": 4,
   "metadata": {},
   "outputs": [],
   "source": [
    "lists, non_listed_compos = gather_lists_by_pair_and_group(compos.compos_dataframe[1:])\n",
    "generate_lists_html_css(lists)\n",
    "# compos.visualize_block('group')"
   ]
  },
  {
   "cell_type": "code",
   "execution_count": 5,
   "metadata": {
    "scrolled": true
   },
   "outputs": [
    {
     "ename": "RecursionError",
     "evalue": "maximum recursion depth exceeded",
     "output_type": "error",
     "traceback": [
      "\u001b[1;31m---------------------------------------------------------------------------\u001b[0m",
      "\u001b[1;31mRecursionError\u001b[0m                            Traceback (most recent call last)",
      "\u001b[1;32m<ipython-input-5-10c8a637134f>\u001b[0m in \u001b[0;36m<module>\u001b[1;34m()\u001b[0m\n\u001b[0;32m      1\u001b[0m \u001b[0mcompos_html\u001b[0m \u001b[1;33m=\u001b[0m \u001b[1;33m[\u001b[0m\u001b[0mli\u001b[0m\u001b[1;33m.\u001b[0m\u001b[0mlist_obj\u001b[0m \u001b[1;32mfor\u001b[0m \u001b[0mli\u001b[0m \u001b[1;32min\u001b[0m \u001b[0mlists\u001b[0m\u001b[1;33m]\u001b[0m \u001b[1;33m+\u001b[0m \u001b[0mnon_listed_compos\u001b[0m\u001b[1;33m\u001b[0m\u001b[0m\n\u001b[1;32m----> 2\u001b[1;33m \u001b[0mblocks\u001b[0m \u001b[1;33m=\u001b[0m \u001b[0mslice_blocks\u001b[0m\u001b[1;33m(\u001b[0m\u001b[0mcompos_html\u001b[0m\u001b[1;33m,\u001b[0m \u001b[1;34m'v'\u001b[0m\u001b[1;33m)\u001b[0m\u001b[1;33m\u001b[0m\u001b[0m\n\u001b[0m\u001b[0;32m      3\u001b[0m \u001b[0mvisualize_blocks\u001b[0m\u001b[1;33m(\u001b[0m\u001b[0mblocks\u001b[0m\u001b[1;33m,\u001b[0m \u001b[0mimg\u001b[0m\u001b[1;33m,\u001b[0m \u001b[0mimg_shape\u001b[0m\u001b[1;33m)\u001b[0m\u001b[1;33m\u001b[0m\u001b[0m\n",
      "\u001b[1;32mD:\\git_file\\github\\doing\\UI2CODE\\Code-Generation\\v6\\obj\\Block.py\u001b[0m in \u001b[0;36mslice_blocks\u001b[1;34m(compos_html, direction)\u001b[0m\n\u001b[0;32m     47\u001b[0m                     \u001b[0mcss\u001b[0m \u001b[1;33m=\u001b[0m \u001b[0mCSS\u001b[0m\u001b[1;33m(\u001b[0m\u001b[0mcss_name\u001b[0m\u001b[1;33m,\u001b[0m \u001b[0mmargin_top\u001b[0m\u001b[1;33m=\u001b[0m\u001b[0mstr\u001b[0m\u001b[1;33m(\u001b[0m\u001b[0mmargin\u001b[0m\u001b[1;33m)\u001b[0m \u001b[1;33m+\u001b[0m \u001b[1;34m'px'\u001b[0m\u001b[1;33m,\u001b[0m \u001b[0mclear\u001b[0m\u001b[1;33m=\u001b[0m\u001b[1;34m'left'\u001b[0m\u001b[1;33m,\u001b[0m \u001b[0mborder\u001b[0m\u001b[1;33m=\u001b[0m\u001b[1;34m\"solid 2px black\"\u001b[0m\u001b[1;33m)\u001b[0m\u001b[1;33m\u001b[0m\u001b[0m\n\u001b[0;32m     48\u001b[0m                     blocks.append(Block(id=block_id, compos=block_compos, slice_sub_block_direction=direction,\n\u001b[1;32m---> 49\u001b[1;33m                                         html_id='block-'+str(block_id), css={css_name: css}))\n\u001b[0m\u001b[0;32m     50\u001b[0m                     \u001b[0mblock_compos\u001b[0m \u001b[1;33m=\u001b[0m \u001b[1;33m[\u001b[0m\u001b[1;33m]\u001b[0m\u001b[1;33m\u001b[0m\u001b[0m\n\u001b[0;32m     51\u001b[0m             \u001b[1;31m# extend block\u001b[0m\u001b[1;33m\u001b[0m\u001b[1;33m\u001b[0m\u001b[0m\n",
      "\u001b[1;32mD:\\git_file\\github\\doing\\UI2CODE\\Code-Generation\\v6\\obj\\Block.py\u001b[0m in \u001b[0;36m__init__\u001b[1;34m(self, id, compos, slice_sub_block_direction, html_tag, html_id, html_class_name, css)\u001b[0m\n\u001b[0;32m    139\u001b[0m \u001b[1;33m\u001b[0m\u001b[0m\n\u001b[0;32m    140\u001b[0m         \u001b[1;31m# only slice sub-block once\u001b[0m\u001b[1;33m\u001b[0m\u001b[1;33m\u001b[0m\u001b[0m\n\u001b[1;32m--> 141\u001b[1;33m         \u001b[0mself\u001b[0m\u001b[1;33m.\u001b[0m\u001b[0mslice_sub_blocks\u001b[0m\u001b[1;33m(\u001b[0m\u001b[0mslice_sub_block_direction\u001b[0m\u001b[1;33m)\u001b[0m\u001b[1;33m\u001b[0m\u001b[0m\n\u001b[0m\u001b[0;32m    142\u001b[0m \u001b[1;33m\u001b[0m\u001b[0m\n\u001b[0;32m    143\u001b[0m         \u001b[1;32mif\u001b[0m \u001b[0mcss\u001b[0m \u001b[1;32mis\u001b[0m \u001b[1;32mnot\u001b[0m \u001b[1;32mNone\u001b[0m\u001b[1;33m:\u001b[0m\u001b[1;33m\u001b[0m\u001b[0m\n",
      "\u001b[1;32mD:\\git_file\\github\\doing\\UI2CODE\\Code-Generation\\v6\\obj\\Block.py\u001b[0m in \u001b[0;36mslice_sub_blocks\u001b[1;34m(self, slice_sub_block_direction)\u001b[0m\n\u001b[0;32m    186\u001b[0m         \u001b[0mHorizontally\u001b[0m \u001b[0mslice\u001b[0m \u001b[0mthe\u001b[0m \u001b[0mblock\u001b[0m \u001b[0minto\u001b[0m \u001b[0msub\u001b[0m\u001b[1;33m-\u001b[0m\u001b[0mblocks\u001b[0m\u001b[1;33m\u001b[0m\u001b[0m\n\u001b[0;32m    187\u001b[0m         '''\n\u001b[1;32m--> 188\u001b[1;33m         \u001b[0mself\u001b[0m\u001b[1;33m.\u001b[0m\u001b[0msub_blocks\u001b[0m \u001b[1;33m=\u001b[0m \u001b[0mslice_blocks\u001b[0m\u001b[1;33m(\u001b[0m\u001b[0mself\u001b[0m\u001b[1;33m.\u001b[0m\u001b[0mcompos\u001b[0m\u001b[1;33m,\u001b[0m \u001b[0mdirection\u001b[0m\u001b[1;33m=\u001b[0m\u001b[0mslice_sub_block_direction\u001b[0m\u001b[1;33m)\u001b[0m\u001b[1;33m\u001b[0m\u001b[0m\n\u001b[0m\u001b[0;32m    189\u001b[0m \u001b[1;33m\u001b[0m\u001b[0m\n\u001b[0;32m    190\u001b[0m     \u001b[1;32mdef\u001b[0m \u001b[0mclip_block_img\u001b[0m\u001b[1;33m(\u001b[0m\u001b[0mself\u001b[0m\u001b[1;33m,\u001b[0m \u001b[0morg\u001b[0m\u001b[1;33m,\u001b[0m \u001b[0mshow\u001b[0m\u001b[1;33m=\u001b[0m\u001b[1;32mFalse\u001b[0m\u001b[1;33m)\u001b[0m\u001b[1;33m:\u001b[0m\u001b[1;33m\u001b[0m\u001b[0m\n",
      "\u001b[1;32mD:\\git_file\\github\\doing\\UI2CODE\\Code-Generation\\v6\\obj\\Block.py\u001b[0m in \u001b[0;36mslice_blocks\u001b[1;34m(compos_html, direction)\u001b[0m\n\u001b[0;32m     85\u001b[0m                     \u001b[0mcss\u001b[0m \u001b[1;33m=\u001b[0m \u001b[0mCSS\u001b[0m\u001b[1;33m(\u001b[0m\u001b[0mcss_name\u001b[0m\u001b[1;33m,\u001b[0m \u001b[0mmargin_left\u001b[0m\u001b[1;33m=\u001b[0m\u001b[0mstr\u001b[0m\u001b[1;33m(\u001b[0m\u001b[0mmargin\u001b[0m\u001b[1;33m)\u001b[0m \u001b[1;33m+\u001b[0m \u001b[1;34m'px'\u001b[0m\u001b[1;33m,\u001b[0m \u001b[0mfloat\u001b[0m\u001b[1;33m=\u001b[0m\u001b[1;34m'left'\u001b[0m\u001b[1;33m,\u001b[0m \u001b[0mborder\u001b[0m\u001b[1;33m=\u001b[0m\u001b[1;34m\"solid 2px black\"\u001b[0m\u001b[1;33m)\u001b[0m\u001b[1;33m\u001b[0m\u001b[0m\n\u001b[0;32m     86\u001b[0m                     blocks.append(Block(id=block_id, compos=block_compos, slice_sub_block_direction=direction,\n\u001b[1;32m---> 87\u001b[1;33m                                         html_id='block-' + str(block_id), css={css_name: css}))\n\u001b[0m\u001b[0;32m     88\u001b[0m                     \u001b[0mblock_compos\u001b[0m \u001b[1;33m=\u001b[0m \u001b[1;33m[\u001b[0m\u001b[1;33m]\u001b[0m\u001b[1;33m\u001b[0m\u001b[0m\n\u001b[0;32m     89\u001b[0m             \u001b[1;31m# extend block\u001b[0m\u001b[1;33m\u001b[0m\u001b[1;33m\u001b[0m\u001b[0m\n",
      "\u001b[1;32mD:\\git_file\\github\\doing\\UI2CODE\\Code-Generation\\v6\\obj\\Block.py\u001b[0m in \u001b[0;36m__init__\u001b[1;34m(self, id, compos, slice_sub_block_direction, html_tag, html_id, html_class_name, css)\u001b[0m\n\u001b[0;32m    139\u001b[0m \u001b[1;33m\u001b[0m\u001b[0m\n\u001b[0;32m    140\u001b[0m         \u001b[1;31m# only slice sub-block once\u001b[0m\u001b[1;33m\u001b[0m\u001b[1;33m\u001b[0m\u001b[0m\n\u001b[1;32m--> 141\u001b[1;33m         \u001b[0mself\u001b[0m\u001b[1;33m.\u001b[0m\u001b[0mslice_sub_blocks\u001b[0m\u001b[1;33m(\u001b[0m\u001b[0mslice_sub_block_direction\u001b[0m\u001b[1;33m)\u001b[0m\u001b[1;33m\u001b[0m\u001b[0m\n\u001b[0m\u001b[0;32m    142\u001b[0m \u001b[1;33m\u001b[0m\u001b[0m\n\u001b[0;32m    143\u001b[0m         \u001b[1;32mif\u001b[0m \u001b[0mcss\u001b[0m \u001b[1;32mis\u001b[0m \u001b[1;32mnot\u001b[0m \u001b[1;32mNone\u001b[0m\u001b[1;33m:\u001b[0m\u001b[1;33m\u001b[0m\u001b[0m\n",
      "\u001b[1;32mD:\\git_file\\github\\doing\\UI2CODE\\Code-Generation\\v6\\obj\\Block.py\u001b[0m in \u001b[0;36mslice_sub_blocks\u001b[1;34m(self, slice_sub_block_direction)\u001b[0m\n\u001b[0;32m    186\u001b[0m         \u001b[0mHorizontally\u001b[0m \u001b[0mslice\u001b[0m \u001b[0mthe\u001b[0m \u001b[0mblock\u001b[0m \u001b[0minto\u001b[0m \u001b[0msub\u001b[0m\u001b[1;33m-\u001b[0m\u001b[0mblocks\u001b[0m\u001b[1;33m\u001b[0m\u001b[0m\n\u001b[0;32m    187\u001b[0m         '''\n\u001b[1;32m--> 188\u001b[1;33m         \u001b[0mself\u001b[0m\u001b[1;33m.\u001b[0m\u001b[0msub_blocks\u001b[0m \u001b[1;33m=\u001b[0m \u001b[0mslice_blocks\u001b[0m\u001b[1;33m(\u001b[0m\u001b[0mself\u001b[0m\u001b[1;33m.\u001b[0m\u001b[0mcompos\u001b[0m\u001b[1;33m,\u001b[0m \u001b[0mdirection\u001b[0m\u001b[1;33m=\u001b[0m\u001b[0mslice_sub_block_direction\u001b[0m\u001b[1;33m)\u001b[0m\u001b[1;33m\u001b[0m\u001b[0m\n\u001b[0m\u001b[0;32m    189\u001b[0m \u001b[1;33m\u001b[0m\u001b[0m\n\u001b[0;32m    190\u001b[0m     \u001b[1;32mdef\u001b[0m \u001b[0mclip_block_img\u001b[0m\u001b[1;33m(\u001b[0m\u001b[0mself\u001b[0m\u001b[1;33m,\u001b[0m \u001b[0morg\u001b[0m\u001b[1;33m,\u001b[0m \u001b[0mshow\u001b[0m\u001b[1;33m=\u001b[0m\u001b[1;32mFalse\u001b[0m\u001b[1;33m)\u001b[0m\u001b[1;33m:\u001b[0m\u001b[1;33m\u001b[0m\u001b[0m\n",
      "\u001b[1;32mD:\\git_file\\github\\doing\\UI2CODE\\Code-Generation\\v6\\obj\\Block.py\u001b[0m in \u001b[0;36mslice_blocks\u001b[1;34m(compos_html, direction)\u001b[0m\n\u001b[0;32m     47\u001b[0m                     \u001b[0mcss\u001b[0m \u001b[1;33m=\u001b[0m \u001b[0mCSS\u001b[0m\u001b[1;33m(\u001b[0m\u001b[0mcss_name\u001b[0m\u001b[1;33m,\u001b[0m \u001b[0mmargin_top\u001b[0m\u001b[1;33m=\u001b[0m\u001b[0mstr\u001b[0m\u001b[1;33m(\u001b[0m\u001b[0mmargin\u001b[0m\u001b[1;33m)\u001b[0m \u001b[1;33m+\u001b[0m \u001b[1;34m'px'\u001b[0m\u001b[1;33m,\u001b[0m \u001b[0mclear\u001b[0m\u001b[1;33m=\u001b[0m\u001b[1;34m'left'\u001b[0m\u001b[1;33m,\u001b[0m \u001b[0mborder\u001b[0m\u001b[1;33m=\u001b[0m\u001b[1;34m\"solid 2px black\"\u001b[0m\u001b[1;33m)\u001b[0m\u001b[1;33m\u001b[0m\u001b[0m\n\u001b[0;32m     48\u001b[0m                     blocks.append(Block(id=block_id, compos=block_compos, slice_sub_block_direction=direction,\n\u001b[1;32m---> 49\u001b[1;33m                                         html_id='block-'+str(block_id), css={css_name: css}))\n\u001b[0m\u001b[0;32m     50\u001b[0m                     \u001b[0mblock_compos\u001b[0m \u001b[1;33m=\u001b[0m \u001b[1;33m[\u001b[0m\u001b[1;33m]\u001b[0m\u001b[1;33m\u001b[0m\u001b[0m\n\u001b[0;32m     51\u001b[0m             \u001b[1;31m# extend block\u001b[0m\u001b[1;33m\u001b[0m\u001b[1;33m\u001b[0m\u001b[0m\n",
      "\u001b[1;32mD:\\git_file\\github\\doing\\UI2CODE\\Code-Generation\\v6\\obj\\Block.py\u001b[0m in \u001b[0;36m__init__\u001b[1;34m(self, id, compos, slice_sub_block_direction, html_tag, html_id, html_class_name, css)\u001b[0m\n\u001b[0;32m    139\u001b[0m \u001b[1;33m\u001b[0m\u001b[0m\n\u001b[0;32m    140\u001b[0m         \u001b[1;31m# only slice sub-block once\u001b[0m\u001b[1;33m\u001b[0m\u001b[1;33m\u001b[0m\u001b[0m\n\u001b[1;32m--> 141\u001b[1;33m         \u001b[0mself\u001b[0m\u001b[1;33m.\u001b[0m\u001b[0mslice_sub_blocks\u001b[0m\u001b[1;33m(\u001b[0m\u001b[0mslice_sub_block_direction\u001b[0m\u001b[1;33m)\u001b[0m\u001b[1;33m\u001b[0m\u001b[0m\n\u001b[0m\u001b[0;32m    142\u001b[0m \u001b[1;33m\u001b[0m\u001b[0m\n\u001b[0;32m    143\u001b[0m         \u001b[1;32mif\u001b[0m \u001b[0mcss\u001b[0m \u001b[1;32mis\u001b[0m \u001b[1;32mnot\u001b[0m \u001b[1;32mNone\u001b[0m\u001b[1;33m:\u001b[0m\u001b[1;33m\u001b[0m\u001b[0m\n",
      "\u001b[1;32mD:\\git_file\\github\\doing\\UI2CODE\\Code-Generation\\v6\\obj\\Block.py\u001b[0m in \u001b[0;36mslice_sub_blocks\u001b[1;34m(self, slice_sub_block_direction)\u001b[0m\n\u001b[0;32m    186\u001b[0m         \u001b[0mHorizontally\u001b[0m \u001b[0mslice\u001b[0m \u001b[0mthe\u001b[0m \u001b[0mblock\u001b[0m \u001b[0minto\u001b[0m \u001b[0msub\u001b[0m\u001b[1;33m-\u001b[0m\u001b[0mblocks\u001b[0m\u001b[1;33m\u001b[0m\u001b[0m\n\u001b[0;32m    187\u001b[0m         '''\n\u001b[1;32m--> 188\u001b[1;33m         \u001b[0mself\u001b[0m\u001b[1;33m.\u001b[0m\u001b[0msub_blocks\u001b[0m \u001b[1;33m=\u001b[0m \u001b[0mslice_blocks\u001b[0m\u001b[1;33m(\u001b[0m\u001b[0mself\u001b[0m\u001b[1;33m.\u001b[0m\u001b[0mcompos\u001b[0m\u001b[1;33m,\u001b[0m \u001b[0mdirection\u001b[0m\u001b[1;33m=\u001b[0m\u001b[0mslice_sub_block_direction\u001b[0m\u001b[1;33m)\u001b[0m\u001b[1;33m\u001b[0m\u001b[0m\n\u001b[0m\u001b[0;32m    189\u001b[0m \u001b[1;33m\u001b[0m\u001b[0m\n\u001b[0;32m    190\u001b[0m     \u001b[1;32mdef\u001b[0m \u001b[0mclip_block_img\u001b[0m\u001b[1;33m(\u001b[0m\u001b[0mself\u001b[0m\u001b[1;33m,\u001b[0m \u001b[0morg\u001b[0m\u001b[1;33m,\u001b[0m \u001b[0mshow\u001b[0m\u001b[1;33m=\u001b[0m\u001b[1;32mFalse\u001b[0m\u001b[1;33m)\u001b[0m\u001b[1;33m:\u001b[0m\u001b[1;33m\u001b[0m\u001b[0m\n",
      "\u001b[1;32mD:\\git_file\\github\\doing\\UI2CODE\\Code-Generation\\v6\\obj\\Block.py\u001b[0m in \u001b[0;36mslice_blocks\u001b[1;34m(compos_html, direction)\u001b[0m\n\u001b[0;32m     99\u001b[0m             \u001b[0mcss\u001b[0m \u001b[1;33m=\u001b[0m \u001b[0mCSS\u001b[0m\u001b[1;33m(\u001b[0m\u001b[0mcss_name\u001b[0m\u001b[1;33m,\u001b[0m \u001b[0mmargin_left\u001b[0m\u001b[1;33m=\u001b[0m\u001b[0mstr\u001b[0m\u001b[1;33m(\u001b[0m\u001b[0mint\u001b[0m\u001b[1;33m(\u001b[0m\u001b[0mblock_compos\u001b[0m\u001b[1;33m[\u001b[0m\u001b[1;36m0\u001b[0m\u001b[1;33m]\u001b[0m\u001b[1;33m.\u001b[0m\u001b[0mleft\u001b[0m \u001b[1;33m-\u001b[0m \u001b[0mprev_divider\u001b[0m\u001b[1;33m)\u001b[0m\u001b[1;33m)\u001b[0m \u001b[1;33m+\u001b[0m \u001b[1;34m'px'\u001b[0m\u001b[1;33m,\u001b[0m \u001b[0mfloat\u001b[0m\u001b[1;33m=\u001b[0m\u001b[1;34m'left'\u001b[0m\u001b[1;33m,\u001b[0m \u001b[0mborder\u001b[0m\u001b[1;33m=\u001b[0m\u001b[1;34m\"solid 2px black\"\u001b[0m\u001b[1;33m)\u001b[0m\u001b[1;33m\u001b[0m\u001b[0m\n\u001b[0;32m    100\u001b[0m             blocks.append(Block(id=block_id, compos=block_compos, slice_sub_block_direction=direction,\n\u001b[1;32m--> 101\u001b[1;33m                                 html_id='block-' + str(block_id), css={css_name: css}))\n\u001b[0m\u001b[0;32m    102\u001b[0m \u001b[1;33m\u001b[0m\u001b[0m\n\u001b[0;32m    103\u001b[0m     \u001b[1;32mreturn\u001b[0m \u001b[0mblocks\u001b[0m\u001b[1;33m\u001b[0m\u001b[0m\n",
      "\u001b[1;32mD:\\git_file\\github\\doing\\UI2CODE\\Code-Generation\\v6\\obj\\Block.py\u001b[0m in \u001b[0;36m__init__\u001b[1;34m(self, id, compos, slice_sub_block_direction, html_tag, html_id, html_class_name, css)\u001b[0m\n\u001b[0;32m    139\u001b[0m \u001b[1;33m\u001b[0m\u001b[0m\n\u001b[0;32m    140\u001b[0m         \u001b[1;31m# only slice sub-block once\u001b[0m\u001b[1;33m\u001b[0m\u001b[1;33m\u001b[0m\u001b[0m\n\u001b[1;32m--> 141\u001b[1;33m         \u001b[0mself\u001b[0m\u001b[1;33m.\u001b[0m\u001b[0mslice_sub_blocks\u001b[0m\u001b[1;33m(\u001b[0m\u001b[0mslice_sub_block_direction\u001b[0m\u001b[1;33m)\u001b[0m\u001b[1;33m\u001b[0m\u001b[0m\n\u001b[0m\u001b[0;32m    142\u001b[0m \u001b[1;33m\u001b[0m\u001b[0m\n\u001b[0;32m    143\u001b[0m         \u001b[1;32mif\u001b[0m \u001b[0mcss\u001b[0m \u001b[1;32mis\u001b[0m \u001b[1;32mnot\u001b[0m \u001b[1;32mNone\u001b[0m\u001b[1;33m:\u001b[0m\u001b[1;33m\u001b[0m\u001b[0m\n",
      "\u001b[1;32mD:\\git_file\\github\\doing\\UI2CODE\\Code-Generation\\v6\\obj\\Block.py\u001b[0m in \u001b[0;36mslice_sub_blocks\u001b[1;34m(self, slice_sub_block_direction)\u001b[0m\n\u001b[0;32m    186\u001b[0m         \u001b[0mHorizontally\u001b[0m \u001b[0mslice\u001b[0m \u001b[0mthe\u001b[0m \u001b[0mblock\u001b[0m \u001b[0minto\u001b[0m \u001b[0msub\u001b[0m\u001b[1;33m-\u001b[0m\u001b[0mblocks\u001b[0m\u001b[1;33m\u001b[0m\u001b[0m\n\u001b[0;32m    187\u001b[0m         '''\n\u001b[1;32m--> 188\u001b[1;33m         \u001b[0mself\u001b[0m\u001b[1;33m.\u001b[0m\u001b[0msub_blocks\u001b[0m \u001b[1;33m=\u001b[0m \u001b[0mslice_blocks\u001b[0m\u001b[1;33m(\u001b[0m\u001b[0mself\u001b[0m\u001b[1;33m.\u001b[0m\u001b[0mcompos\u001b[0m\u001b[1;33m,\u001b[0m \u001b[0mdirection\u001b[0m\u001b[1;33m=\u001b[0m\u001b[0mslice_sub_block_direction\u001b[0m\u001b[1;33m)\u001b[0m\u001b[1;33m\u001b[0m\u001b[0m\n\u001b[0m\u001b[0;32m    189\u001b[0m \u001b[1;33m\u001b[0m\u001b[0m\n\u001b[0;32m    190\u001b[0m     \u001b[1;32mdef\u001b[0m \u001b[0mclip_block_img\u001b[0m\u001b[1;33m(\u001b[0m\u001b[0mself\u001b[0m\u001b[1;33m,\u001b[0m \u001b[0morg\u001b[0m\u001b[1;33m,\u001b[0m \u001b[0mshow\u001b[0m\u001b[1;33m=\u001b[0m\u001b[1;32mFalse\u001b[0m\u001b[1;33m)\u001b[0m\u001b[1;33m:\u001b[0m\u001b[1;33m\u001b[0m\u001b[0m\n",
      "\u001b[1;32mD:\\git_file\\github\\doing\\UI2CODE\\Code-Generation\\v6\\obj\\Block.py\u001b[0m in \u001b[0;36mslice_blocks\u001b[1;34m(compos_html, direction)\u001b[0m\n\u001b[0;32m     61\u001b[0m             \u001b[0mcss\u001b[0m \u001b[1;33m=\u001b[0m \u001b[0mCSS\u001b[0m\u001b[1;33m(\u001b[0m\u001b[0mcss_name\u001b[0m\u001b[1;33m,\u001b[0m \u001b[0mmargin_top\u001b[0m\u001b[1;33m=\u001b[0m\u001b[0mstr\u001b[0m\u001b[1;33m(\u001b[0m\u001b[0mint\u001b[0m\u001b[1;33m(\u001b[0m\u001b[0mblock_compos\u001b[0m\u001b[1;33m[\u001b[0m\u001b[1;36m0\u001b[0m\u001b[1;33m]\u001b[0m\u001b[1;33m.\u001b[0m\u001b[0mtop\u001b[0m \u001b[1;33m-\u001b[0m \u001b[0mprev_divider\u001b[0m\u001b[1;33m)\u001b[0m\u001b[1;33m)\u001b[0m \u001b[1;33m+\u001b[0m \u001b[1;34m'px'\u001b[0m\u001b[1;33m,\u001b[0m \u001b[0mclear\u001b[0m\u001b[1;33m=\u001b[0m\u001b[1;34m'left'\u001b[0m\u001b[1;33m,\u001b[0m \u001b[0mborder\u001b[0m\u001b[1;33m=\u001b[0m\u001b[1;34m\"solid 2px black\"\u001b[0m\u001b[1;33m)\u001b[0m\u001b[1;33m\u001b[0m\u001b[0m\n\u001b[0;32m     62\u001b[0m             blocks.append(Block(id=block_id, compos=block_compos, slice_sub_block_direction=direction,\n\u001b[1;32m---> 63\u001b[1;33m                                 html_id='block-' + str(block_id), css={css_name: css}))\n\u001b[0m\u001b[0;32m     64\u001b[0m \u001b[1;33m\u001b[0m\u001b[0m\n\u001b[0;32m     65\u001b[0m     \u001b[1;32melif\u001b[0m \u001b[0mdirection\u001b[0m \u001b[1;33m==\u001b[0m \u001b[1;34m'h'\u001b[0m\u001b[1;33m:\u001b[0m\u001b[1;33m\u001b[0m\u001b[0m\n",
      "... last 6 frames repeated, from the frame below ...\n",
      "\u001b[1;32mD:\\git_file\\github\\doing\\UI2CODE\\Code-Generation\\v6\\obj\\Block.py\u001b[0m in \u001b[0;36m__init__\u001b[1;34m(self, id, compos, slice_sub_block_direction, html_tag, html_id, html_class_name, css)\u001b[0m\n\u001b[0;32m    139\u001b[0m \u001b[1;33m\u001b[0m\u001b[0m\n\u001b[0;32m    140\u001b[0m         \u001b[1;31m# only slice sub-block once\u001b[0m\u001b[1;33m\u001b[0m\u001b[1;33m\u001b[0m\u001b[0m\n\u001b[1;32m--> 141\u001b[1;33m         \u001b[0mself\u001b[0m\u001b[1;33m.\u001b[0m\u001b[0mslice_sub_blocks\u001b[0m\u001b[1;33m(\u001b[0m\u001b[0mslice_sub_block_direction\u001b[0m\u001b[1;33m)\u001b[0m\u001b[1;33m\u001b[0m\u001b[0m\n\u001b[0m\u001b[0;32m    142\u001b[0m \u001b[1;33m\u001b[0m\u001b[0m\n\u001b[0;32m    143\u001b[0m         \u001b[1;32mif\u001b[0m \u001b[0mcss\u001b[0m \u001b[1;32mis\u001b[0m \u001b[1;32mnot\u001b[0m \u001b[1;32mNone\u001b[0m\u001b[1;33m:\u001b[0m\u001b[1;33m\u001b[0m\u001b[0m\n",
      "\u001b[1;31mRecursionError\u001b[0m: maximum recursion depth exceeded"
     ]
    }
   ],
   "source": [
    "compos_html = [li.list_obj for li in lists] + non_listed_compos\n",
    "blocks = slice_blocks(compos_html, 'v')\n",
    "visualize_blocks(blocks, img, img_shape)"
   ]
  },
  {
   "cell_type": "code",
   "execution_count": null,
   "metadata": {},
   "outputs": [],
   "source": []
  },
  {
   "cell_type": "code",
   "execution_count": 8,
   "metadata": {},
   "outputs": [
    {
     "name": "stdout",
     "output_type": "stream",
     "text": [
      "2 12\n",
      "1 3\n",
      "0 1\n",
      "3 7\n",
      "0 1\n",
      "0 1\n",
      "0 4\n"
     ]
    }
   ],
   "source": [
    "b = blocks[2]\n",
    "b.sub_blocks\n",
    "broad =b.visualize_sub_blocks(img_re)"
   ]
  },
  {
   "cell_type": "code",
   "execution_count": null,
   "metadata": {},
   "outputs": [],
   "source": []
  },
  {
   "cell_type": "code",
   "execution_count": null,
   "metadata": {},
   "outputs": [],
   "source": [
    "b.visualize_block(img_re)\n",
    "b.visualize_sub_blocks(img_re)"
   ]
  },
  {
   "cell_type": "code",
   "execution_count": null,
   "metadata": {},
   "outputs": [],
   "source": []
  },
  {
   "cell_type": "code",
   "execution_count": 6,
   "metadata": {},
   "outputs": [],
   "source": [
    "visualize_blocks(blocks, img, img_shape)\n",
    "visualize_CompoHTMLs(compos_html, img, img_shape)"
   ]
  },
  {
   "cell_type": "code",
   "execution_count": 10,
   "metadata": {},
   "outputs": [],
   "source": [
    "visualize_blocks(b.sub_blocks, img, img_shape)"
   ]
  },
  {
   "cell_type": "code",
   "execution_count": null,
   "metadata": {},
   "outputs": [],
   "source": []
  },
  {
   "cell_type": "code",
   "execution_count": 7,
   "metadata": {},
   "outputs": [],
   "source": []
  },
  {
   "cell_type": "code",
   "execution_count": 8,
   "metadata": {},
   "outputs": [],
   "source": [
    "page = Page()\n",
    "for block in blocks:\n",
    "    page.add_compo(block.html_script, block.css_script)"
   ]
  },
  {
   "cell_type": "code",
   "execution_count": 9,
   "metadata": {},
   "outputs": [],
   "source": [
    "page.export()"
   ]
  },
  {
   "cell_type": "code",
   "execution_count": null,
   "metadata": {},
   "outputs": [],
   "source": []
  }
 ],
 "metadata": {
  "kernelspec": {
   "display_name": "Python 3",
   "language": "python",
   "name": "python3"
  },
  "language_info": {
   "codemirror_mode": {
    "name": "ipython",
    "version": 3
   },
   "file_extension": ".py",
   "mimetype": "text/x-python",
   "name": "python",
   "nbconvert_exporter": "python",
   "pygments_lexer": "ipython3",
   "version": "3.5.6"
  }
 },
 "nbformat": 4,
 "nbformat_minor": 2
}
