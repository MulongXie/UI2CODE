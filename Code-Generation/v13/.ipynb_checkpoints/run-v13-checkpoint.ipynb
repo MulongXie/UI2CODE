{
 "cells": [
  {
   "cell_type": "code",
   "execution_count": 1,
   "metadata": {},
   "outputs": [],
   "source": [
    "import numpy as np\n",
    "import pandas as pd\n",
    "\n",
    "from obj.Compos_DF import ComposDF\n",
    "from obj.Compo_HTML import *\n",
    "from obj.List import *\n",
    "from obj.Block import *\n",
    "from obj.Group import *\n",
    "from obj.React import *\n",
    "from obj.Page import *\n",
    "from obj.Tree import *\n",
    "import lib.draw as draw\n",
    "from lib.list_item_gethering import gather_lists_by_pair_and_group"
   ]
  },
  {
   "cell_type": "code",
   "execution_count": 2,
   "metadata": {},
   "outputs": [],
   "source": [
    "name = 'data/input/9'\n",
    "compos = ComposDF(json_file=name + '-new.json', img_file=name + '.png')\n",
    "img = compos.img.copy()\n",
    "img_shape = compos.img_shape\n",
    "img_re = cv2.resize(img, img_shape)"
   ]
  },
  {
   "cell_type": "code",
   "execution_count": 3,
   "metadata": {},
   "outputs": [],
   "source": [
    "# ***Step 1*** repetitive list recognition\n",
    "compos.repetitive_group_recognition()    # group_nontext, group_text\n",
    "# check_valid_group_by_interleaving(compos.compos_dataframe)\n",
    "compos.pair_groups()                     # group_pair, pair_to, group\n",
    "compos.list_item_partition()             # list_item\n",
    "# compos.visualize_block('group')\n",
    "# compos.visualize_block('group_pair')"
   ]
  },
  {
   "cell_type": "code",
   "execution_count": 4,
   "metadata": {},
   "outputs": [],
   "source": [
    "# ***Step 2*** mark compos in same group as a single list, mark compos in same group_pair as a multiple list\n",
    "lists, non_listed_compos = gather_lists_by_pair_and_group(compos.compos_dataframe[1:])\n",
    "generate_lists_html_css(lists)\n",
    "# visualize_lists(img_re, lists)"
   ]
  },
  {
   "cell_type": "code",
   "execution_count": 5,
   "metadata": {
    "scrolled": true
   },
   "outputs": [],
   "source": [
    "# ***Step 3*** slice compos as blocks\n",
    "compos_html = [li.list_obj for li in lists] + non_listed_compos\n",
    "blocks, non_blocked_compos = slice_blocks(compos_html, 'v')\n",
    "# visualize_CompoHTMLs(compos_html, img_re)\n",
    "# visualize_blocks(blocks, img, img_shape)\n",
    "# blocks[2].visualize_sub_blocks_and_compos(img_re, recursive=True)"
   ]
  },
  {
   "cell_type": "code",
   "execution_count": 8,
   "metadata": {},
   "outputs": [],
   "source": [
    "# ***Step 4*** assembly html and css as web page, and react program\n",
    "html, css = export_html_and_css(blocks)\n",
    "blk, index = export_react_program(blocks)\n",
    "tree = export_tree(blocks)"
   ]
  }
 ],
 "metadata": {
  "kernelspec": {
   "display_name": "Python 3",
   "language": "python",
   "name": "python3"
  },
  "language_info": {
   "codemirror_mode": {
    "name": "ipython",
    "version": 3
   },
   "file_extension": ".py",
   "mimetype": "text/x-python",
   "name": "python",
   "nbconvert_exporter": "python",
   "pygments_lexer": "ipython3",
   "version": "3.5.6"
  }
 },
 "nbformat": 4,
 "nbformat_minor": 2
}
