{
 "cells": [
  {
   "cell_type": "code",
   "execution_count": 1,
   "metadata": {},
   "outputs": [],
   "source": [
    "import json\n",
    "import pandas as pd\n",
    "import numpy as np\n",
    "import matplotlib.pyplot as plt\n",
    "import cv2"
   ]
  },
  {
   "cell_type": "code",
   "execution_count": 2,
   "metadata": {},
   "outputs": [],
   "source": [
    "def read_compos(file='compo.json'):\n",
    "    compos = json.load(open(file))['compos']\n",
    "    df = pd.DataFrame(columns=['id', 'column_min', 'column_max', 'row_min', 'row_max', 'height', 'width', 'class'])\n",
    "    for i, compo in enumerate(compos):\n",
    "        df.loc[i] = compo\n",
    "    df = df[df['class'] != 'TextView']\n",
    "    return df"
   ]
  },
  {
   "cell_type": "code",
   "execution_count": 3,
   "metadata": {},
   "outputs": [],
   "source": [
    "def draw(org, compos):\n",
    "    img_h, img_w = compos.iloc[0].height, compos.iloc[0].width\n",
    "    img = cv2.resize(org, (img_w, img_h))\n",
    "    board = img.copy()\n",
    "    for i in range(len(compos)):\n",
    "        compo = compos.iloc[i]\n",
    "        board = cv2.rectangle(board, (compo.column_min, compo.row_min), (compo.column_max, compo.row_max), (255,0,0))\n",
    "        board = cv2.putText(board, compo['class'], (compo.column_min+5, compo.row_min+20), cv2.FONT_HERSHEY_SIMPLEX, 0.4, (0,0,255), 1)\n",
    "    \n",
    "    cv2.imshow('board', board)\n",
    "    cv2.waitKey()\n",
    "    cv2.destroyAllWindows()"
   ]
  },
  {
   "cell_type": "code",
   "execution_count": null,
   "metadata": {},
   "outputs": [],
   "source": [
    "def clustering(compos):\n",
    "    "
   ]
  },
  {
   "cell_type": "code",
   "execution_count": 5,
   "metadata": {},
   "outputs": [],
   "source": [
    "compos = read_compos()\n",
    "org = cv2.imread('9.png')\n",
    "draw(org, compos)"
   ]
  },
  {
   "cell_type": "code",
   "execution_count": null,
   "metadata": {},
   "outputs": [],
   "source": []
  }
 ],
 "metadata": {
  "kernelspec": {
   "display_name": "Python 3",
   "language": "python",
   "name": "python3"
  },
  "language_info": {
   "codemirror_mode": {
    "name": "ipython",
    "version": 3
   },
   "file_extension": ".py",
   "mimetype": "text/x-python",
   "name": "python",
   "nbconvert_exporter": "python",
   "pygments_lexer": "ipython3",
   "version": "3.5.6"
  }
 },
 "nbformat": 4,
 "nbformat_minor": 2
}
