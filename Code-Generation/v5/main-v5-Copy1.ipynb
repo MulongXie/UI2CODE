{
 "cells": [
  {
   "cell_type": "code",
   "execution_count": 1,
   "metadata": {},
   "outputs": [
    {
     "ename": "IndentationError",
     "evalue": "expected an indented block (List.py, line 201)",
     "output_type": "error",
     "traceback": [
      "Traceback \u001b[1;36m(most recent call last)\u001b[0m:\n",
      "  File \u001b[0;32m\"D:\\Anaconda\\lib\\site-packages\\IPython\\core\\interactiveshell.py\"\u001b[0m, line \u001b[0;32m2961\u001b[0m, in \u001b[0;35mrun_code\u001b[0m\n    exec(code_obj, self.user_global_ns, self.user_ns)\n",
      "\u001b[1;36m  File \u001b[1;32m\"<ipython-input-1-3e3f8afff08c>\"\u001b[1;36m, line \u001b[1;32m6\u001b[1;36m, in \u001b[1;35m<module>\u001b[1;36m\u001b[0m\n\u001b[1;33m    from obj.List import *\u001b[0m\n",
      "\u001b[1;36m  File \u001b[1;32m\"D:\\git_file\\github\\doing\\UI2CODE\\Code-Generation\\v5\\obj\\List.py\"\u001b[1;36m, line \u001b[1;32m201\u001b[0m\n\u001b[1;33m    self.assembly_css()\u001b[0m\n\u001b[1;37m       ^\u001b[0m\n\u001b[1;31mIndentationError\u001b[0m\u001b[1;31m:\u001b[0m expected an indented block\n"
     ]
    }
   ],
   "source": [
    "import numpy as np\n",
    "import pandas as pd\n",
    "\n",
    "from obj.Compos_DF import ComposDF\n",
    "from obj.Compo_HTML import *\n",
    "from obj.List import *\n",
    "from obj.Block import *\n",
    "import lib.draw as draw\n",
    "from obj.Page import Page"
   ]
  },
  {
   "cell_type": "code",
   "execution_count": null,
   "metadata": {},
   "outputs": [],
   "source": [
    "name = 'data/9'\n",
    "compos = ComposDF(name + '.json', name + '.png')\n",
    "img = compos.img.copy()\n",
    "img_shape = compos.img_shape\n",
    "img_re = cv2.resize(img, img_shape)"
   ]
  },
  {
   "cell_type": "code",
   "execution_count": null,
   "metadata": {
    "scrolled": true
   },
   "outputs": [],
   "source": [
    "compos.repetitive_group_recognition()    # group_nontext, group_text\n",
    "compos.pair_groups()                     # pair, pair_to, group\n",
    "compos.list_item_partition()             # list_item\n",
    "# compos.visualize_block('group')\n",
    "# compos.visualize_block('pair')"
   ]
  },
  {
   "cell_type": "code",
   "execution_count": null,
   "metadata": {},
   "outputs": [],
   "source": [
    "lists, non_listed_compos = gather_lists_by_pair_and_group(compos.compos_dataframe[1:])\n",
    "generate_lists_html_css(lists)\n",
    "# compos.visualize_block('group')"
   ]
  },
  {
   "cell_type": "code",
   "execution_count": null,
   "metadata": {
    "scrolled": true
   },
   "outputs": [],
   "source": [
    "# compos_html = [li.list_obj for li in lists] + non_listed_compos\n",
    "# blocks = slice_blocks(compos_html, 'v')\n",
    "# visualize_blocks(blocks, img, img_shape)\n",
    "\n",
    "# b = blocks[2]\n",
    "# visualize_blocks(b.sub_blocks, img, img_shape)"
   ]
  },
  {
   "cell_type": "code",
   "execution_count": null,
   "metadata": {},
   "outputs": [],
   "source": [
    "page = Page()\n",
    "for li in lists:\n",
    "    page.add_compo(li.html_script, li.css_script)"
   ]
  },
  {
   "cell_type": "code",
   "execution_count": null,
   "metadata": {},
   "outputs": [],
   "source": [
    "page.export()"
   ]
  }
 ],
 "metadata": {
  "kernelspec": {
   "display_name": "Python 3",
   "language": "python",
   "name": "python3"
  },
  "language_info": {
   "codemirror_mode": {
    "name": "ipython",
    "version": 3
   },
   "file_extension": ".py",
   "mimetype": "text/x-python",
   "name": "python",
   "nbconvert_exporter": "python",
   "pygments_lexer": "ipython3",
   "version": "3.5.6"
  }
 },
 "nbformat": 4,
 "nbformat_minor": 2
}
