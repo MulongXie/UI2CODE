{
 "cells": [
  {
   "cell_type": "code",
   "execution_count": 1,
   "metadata": {},
   "outputs": [],
   "source": [
    "import numpy as np\n",
    "import pandas as pd\n",
    "\n",
    "from obj.Compos_DF import ComposDF\n",
    "from obj.Compo_HTML import *\n",
    "from obj.List import *\n",
    "from obj.Block import *\n",
    "import lib.draw as draw\n",
    "from obj.Page import Page"
   ]
  },
  {
   "cell_type": "code",
   "execution_count": 2,
   "metadata": {},
   "outputs": [],
   "source": [
    "name = 'data/9'\n",
    "compos = ComposDF(name + '.json', name + '.png')\n",
    "img = compos.img.copy()\n",
    "img_shape = compos.img_shape\n",
    "img_re = cv2.resize(img, img_shape)"
   ]
  },
  {
   "cell_type": "code",
   "execution_count": 3,
   "metadata": {
    "scrolled": true
   },
   "outputs": [],
   "source": [
    "compos.repetitive_group_recognition()    # group_nontext, group_text\n",
    "compos.pair_groups()                     # pair, pair_to, group\n",
    "compos.list_item_partition()             # list_item\n",
    "# compos.visualize_block('group')\n",
    "# compos.visualize_block('pair')"
   ]
  },
  {
   "cell_type": "code",
   "execution_count": 4,
   "metadata": {},
   "outputs": [],
   "source": [
    "lists, non_listed_compos = gather_lists_by_pair_and_group(compos.compos_dataframe[1:])\n",
    "generate_lists_html_css(lists)\n",
    "compos_html = [li.list_obj for li in lists] + non_listed_compos\n",
    "# visualize_CompoHTMLs(compos_html, img, img_shape)"
   ]
  },
  {
   "cell_type": "code",
   "execution_count": 5,
   "metadata": {
    "scrolled": true
   },
   "outputs": [
    {
     "name": "stdout",
     "output_type": "stream",
     "text": [
      "10 19\n",
      "42 53\n",
      "63 85\n",
      "759 770\n"
     ]
    }
   ],
   "source": [
    "blocks = slice_blocks(compos_html, 'v')\n",
    "# visualize_blocks(blocks, img, img_shape)"
   ]
  },
  {
   "cell_type": "code",
   "execution_count": 6,
   "metadata": {},
   "outputs": [],
   "source": [
    "b = blocks[2]\n",
    "# visualize_blocks(b.sub_blocks, img, img_shape)"
   ]
  },
  {
   "cell_type": "code",
   "execution_count": 7,
   "metadata": {},
   "outputs": [
    {
     "data": {
      "text/plain": [
       "{'#block-7': <obj.CSS.CSS at 0x1e849d71d68>,\n",
       " '#block-8': <obj.CSS.CSS at 0x1e849d71e80>,\n",
       " '#block-9': <obj.CSS.CSS at 0x1e849d71f60>,\n",
       " '.t-0': <obj.CSS.CSS at 0x1e849d71898>,\n",
       " 'ul': <obj.CSS.CSS at 0x1e849d71550>}"
      ]
     },
     "execution_count": 7,
     "metadata": {},
     "output_type": "execute_result"
    }
   ],
   "source": [
    "b.css"
   ]
  },
  {
   "cell_type": "code",
   "execution_count": 8,
   "metadata": {},
   "outputs": [
    {
     "name": "stdout",
     "output_type": "stream",
     "text": [
      "<div id=\"block-7\">\n",
      "\t<div id=\"block-8\">\n",
      "\t\t<div id=\"div-6\">\n",
      "\t\t</div>\n",
      "\t</div>\n",
      "\t<div id=\"block-9\">\n",
      "\t\t<ul id=\"ul-7\">\n",
      "\t\t\t<li class=\"li-7\">\n",
      "\t\t\t\t<div class=\"t-0\">\n",
      "\t\t\t\t</div>\n",
      "\t\t\t</li>\n",
      "\t\t\t<li class=\"li-7\">\n",
      "\t\t\t\t<div class=\"t-0\">\n",
      "\t\t\t\t</div>\n",
      "\t\t\t</li>\n",
      "\t\t\t<li class=\"li-7\">\n",
      "\t\t\t\t<div class=\"t-0\">\n",
      "\t\t\t\t</div>\n",
      "\t\t\t</li>\n",
      "\t\t\t<li class=\"li-7\">\n",
      "\t\t\t\t<div class=\"t-0\">\n",
      "\t\t\t\t</div>\n",
      "\t\t\t</li>\n",
      "\t\t\t<li class=\"li-7\">\n",
      "\t\t\t\t<div class=\"t-0\">\n",
      "\t\t\t\t</div>\n",
      "\t\t\t</li>\n",
      "\t\t\t<li class=\"li-7\">\n",
      "\t\t\t\t<div class=\"t-0\">\n",
      "\t\t\t\t</div>\n",
      "\t\t\t</li>\n",
      "\t\t\t<li class=\"li-7\">\n",
      "\t\t\t\t<div class=\"t-0\">\n",
      "\t\t\t\t</div>\n",
      "\t\t\t</li>\n",
      "\t\t</ul>\n",
      "\t</div>\n",
      "</div>\n",
      "\n"
     ]
    }
   ],
   "source": [
    "print(b.html_script)"
   ]
  },
  {
   "cell_type": "code",
   "execution_count": 9,
   "metadata": {},
   "outputs": [],
   "source": [
    "page = Page()\n",
    "for block in blocks:\n",
    "    page.add_compo(block.html_script, block.css_script)"
   ]
  },
  {
   "cell_type": "code",
   "execution_count": 10,
   "metadata": {},
   "outputs": [],
   "source": [
    "page.export()"
   ]
  }
 ],
 "metadata": {
  "kernelspec": {
   "display_name": "Python 3",
   "language": "python",
   "name": "python3"
  },
  "language_info": {
   "codemirror_mode": {
    "name": "ipython",
    "version": 3
   },
   "file_extension": ".py",
   "mimetype": "text/x-python",
   "name": "python",
   "nbconvert_exporter": "python",
   "pygments_lexer": "ipython3",
   "version": "3.5.6"
  }
 },
 "nbformat": 4,
 "nbformat_minor": 2
}
