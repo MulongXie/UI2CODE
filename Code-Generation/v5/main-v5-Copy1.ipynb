{
 "cells": [
  {
   "cell_type": "code",
   "execution_count": 1,
   "metadata": {},
   "outputs": [],
   "source": [
    "import numpy as np\n",
    "import pandas as pd\n",
    "\n",
    "from obj.Compos_DF import ComposDF\n",
    "from obj.Compo_HTML import *\n",
    "from obj.List import *\n",
    "from obj.Block import *\n",
    "import lib.draw as draw\n",
    "from obj.Page import Page"
   ]
  },
  {
   "cell_type": "code",
   "execution_count": 2,
   "metadata": {},
   "outputs": [],
   "source": [
    "name = 'data/9'\n",
    "compos = ComposDF(name + '.json', name + '.png')\n",
    "img = compos.img.copy()\n",
    "img_shape = compos.img_shape\n",
    "img_re = cv2.resize(img, img_shape)"
   ]
  },
  {
   "cell_type": "code",
   "execution_count": 3,
   "metadata": {
    "scrolled": true
   },
   "outputs": [],
   "source": [
    "compos.repetitive_group_recognition()    # group_nontext, group_text\n",
    "compos.pair_groups()                     # pair, pair_to, group\n",
    "compos.list_item_partition()             # list_item"
   ]
  },
  {
   "cell_type": "code",
   "execution_count": 4,
   "metadata": {},
   "outputs": [],
   "source": [
    "# compos.visualize_block('group')\n",
    "# compos.visualize_block('pair')"
   ]
  },
  {
   "cell_type": "code",
   "execution_count": 5,
   "metadata": {},
   "outputs": [],
   "source": [
    "lists, non_listed_compos = gather_lists_by_pair_and_group(compos.compos_dataframe[1:])\n",
    "generate_lists_html_css(lists)\n",
    "compos_html = [li.list_obj for li in lists] + non_listed_compos\n",
    "# visualize_CompoHTMLs(compos_html, img, img_shape)"
   ]
  },
  {
   "cell_type": "code",
   "execution_count": 6,
   "metadata": {},
   "outputs": [],
   "source": [
    "blocks = slice_blocks(compos_html, 'v')\n",
    "# visualize_blocks(blocks, img, img_shape)"
   ]
  },
  {
   "cell_type": "code",
   "execution_count": 7,
   "metadata": {},
   "outputs": [],
   "source": [
    "b = blocks[3]\n",
    "visualize_blocks([b], img, img_shape)"
   ]
  },
  {
   "cell_type": "code",
   "execution_count": 9,
   "metadata": {},
   "outputs": [
    {
     "data": {
      "text/plain": [
       "{'.li-0': <obj.CSS.CSS at 0x244f2f0f780>,\n",
       " '.li-1': <obj.CSS.CSS at 0x244f2f210f0>,\n",
       " '.li-2': <obj.CSS.CSS at 0x244f2f33748>,\n",
       " '.li-3': <obj.CSS.CSS at 0x244f2f43588>,\n",
       " '.nt-3': <obj.CSS.CSS at 0x244f2f50748>,\n",
       " '.nt-4': <obj.CSS.CSS at 0x244f2f04d68>,\n",
       " '.nt-5': <obj.CSS.CSS at 0x244f2f21048>,\n",
       " '.nt-7': <obj.CSS.CSS at 0x244f2f33080>,\n",
       " '.nt-8': <obj.CSS.CSS at 0x244f2f29f60>,\n",
       " '.nt-9': <obj.CSS.CSS at 0x244f2f33780>,\n",
       " '.t-1': <obj.CSS.CSS at 0x244f2f33208>,\n",
       " '.t-2': <obj.CSS.CSS at 0x244f2f335f8>,\n",
       " '.t-6': <obj.CSS.CSS at 0x244f2f43f60>,\n",
       " '.t-7': <obj.CSS.CSS at 0x244f2f04cf8>,\n",
       " '.t-8': <obj.CSS.CSS at 0x244f2f15f28>,\n",
       " 'ul': <obj.CSS.CSS at 0x244f2f50400>}"
      ]
     },
     "execution_count": 9,
     "metadata": {},
     "output_type": "execute_result"
    }
   ],
   "source": [
    "b.css"
   ]
  },
  {
   "cell_type": "code",
   "execution_count": null,
   "metadata": {},
   "outputs": [],
   "source": []
  },
  {
   "cell_type": "code",
   "execution_count": 8,
   "metadata": {},
   "outputs": [
    {
     "name": "stdout",
     "output_type": "stream",
     "text": [
      "<div>\n",
      "\t<div>\n",
      "\t\t<div id=\"div-16\">\n",
      "\t\t</div>\n",
      "\t\t<ul id=\"ul-3\">\n",
      "\t\t\t<li class=\"li-3\">\n",
      "\t\t\t\t<div class=\"nt-9\">\n",
      "\t\t\t\t</div>\n",
      "\t\t\t\t<div class=\"t-2\">\n",
      "\t\t\t\t</div>\n",
      "\t\t\t</li>\n",
      "\t\t\t<li class=\"li-3\">\n",
      "\t\t\t\t<div class=\"nt-9\">\n",
      "\t\t\t\t</div>\n",
      "\t\t\t\t<div class=\"t-2\">\n",
      "\t\t\t\t</div>\n",
      "\t\t\t</li>\n",
      "\t\t\t<li class=\"li-3\">\n",
      "\t\t\t\t<div class=\"nt-9\">\n",
      "\t\t\t\t</div>\n",
      "\t\t\t\t<div class=\"t-2\">\n",
      "\t\t\t\t</div>\n",
      "\t\t\t</li>\n",
      "\t\t\t<li class=\"li-3\">\n",
      "\t\t\t\t<div class=\"nt-9\">\n",
      "\t\t\t\t</div>\n",
      "\t\t\t\t<div class=\"t-2\">\n",
      "\t\t\t\t</div>\n",
      "\t\t\t</li>\n",
      "\t\t\t<li class=\"li-3\">\n",
      "\t\t\t\t<div class=\"nt-9\">\n",
      "\t\t\t\t</div>\n",
      "\t\t\t\t<div class=\"t-2\">\n",
      "\t\t\t\t</div>\n",
      "\t\t\t</li>\n",
      "\t\t</ul>\n",
      "\t\t<ul id=\"ul-1\">\n",
      "\t\t\t<li class=\"li-1\">\n",
      "\t\t\t\t<div class=\"nt-5\">\n",
      "\t\t\t\t</div>\n",
      "\t\t\t\t<div class=\"t-8\">\n",
      "\t\t\t\t</div>\n",
      "\t\t\t</li>\n",
      "\t\t\t<li class=\"li-1\">\n",
      "\t\t\t\t<div class=\"nt-5\">\n",
      "\t\t\t\t</div>\n",
      "\t\t\t\t<div class=\"t-8\">\n",
      "\t\t\t\t</div>\n",
      "\t\t\t</li>\n",
      "\t\t\t<li class=\"li-1\">\n",
      "\t\t\t\t<div class=\"nt-5\">\n",
      "\t\t\t\t</div>\n",
      "\t\t\t\t<div class=\"t-8\">\n",
      "\t\t\t\t</div>\n",
      "\t\t\t</li>\n",
      "\t\t\t<li class=\"li-1\">\n",
      "\t\t\t\t<div class=\"nt-5\">\n",
      "\t\t\t\t</div>\n",
      "\t\t\t\t<div class=\"t-8\">\n",
      "\t\t\t\t</div>\n",
      "\t\t\t</li>\n",
      "\t\t\t<li class=\"li-1\">\n",
      "\t\t\t\t<div class=\"nt-5\">\n",
      "\t\t\t\t</div>\n",
      "\t\t\t\t<div class=\"t-8\">\n",
      "\t\t\t\t</div>\n",
      "\t\t\t</li>\n",
      "\t\t\t<li class=\"li-1\">\n",
      "\t\t\t\t<div class=\"nt-5\">\n",
      "\t\t\t\t</div>\n",
      "\t\t\t\t<div class=\"t-8\">\n",
      "\t\t\t\t</div>\n",
      "\t\t\t</li>\n",
      "\t\t\t<li class=\"li-1\">\n",
      "\t\t\t\t<div class=\"nt-5\">\n",
      "\t\t\t\t</div>\n",
      "\t\t\t\t<div class=\"t-8\">\n",
      "\t\t\t\t</div>\n",
      "\t\t\t</li>\n",
      "\t\t</ul>\n",
      "\t\t<div id=\"div-65\">\n",
      "\t\t</div>\n",
      "\t</div>\n",
      "\t<div>\n",
      "\t\t<div id=\"div-14\">\n",
      "\t\t</div>\n",
      "\t\t<ul id=\"ul-2\">\n",
      "\t\t\t<li class=\"li-2\">\n",
      "\t\t\t\t<div class=\"t-1\">\n",
      "\t\t\t\t</div>\n",
      "\t\t\t\t<div class=\"nt-8\">\n",
      "\t\t\t\t</div>\n",
      "\t\t\t\t<div class=\"nt-7\">\n",
      "\t\t\t\t</div>\n",
      "\t\t\t</li>\n",
      "\t\t\t<li class=\"li-2\">\n",
      "\t\t\t\t<div class=\"t-1\">\n",
      "\t\t\t\t</div>\n",
      "\t\t\t\t<div class=\"nt-8\">\n",
      "\t\t\t\t</div>\n",
      "\t\t\t</li>\n",
      "\t\t\t<li class=\"li-2\">\n",
      "\t\t\t\t<div class=\"t-1\">\n",
      "\t\t\t\t</div>\n",
      "\t\t\t\t<div class=\"nt-8\">\n",
      "\t\t\t\t</div>\n",
      "\t\t\t\t<div class=\"nt-7\">\n",
      "\t\t\t\t</div>\n",
      "\t\t\t</li>\n",
      "\t\t\t<li class=\"li-2\">\n",
      "\t\t\t\t<div class=\"nt-8\">\n",
      "\t\t\t\t</div>\n",
      "\t\t\t\t<div class=\"nt-7\">\n",
      "\t\t\t\t</div>\n",
      "\t\t\t</li>\n",
      "\t\t</ul>\n",
      "\t\t<ul id=\"ul-0\">\n",
      "\t\t\t<li class=\"li-0\">\n",
      "\t\t\t\t<div class=\"nt-4\">\n",
      "\t\t\t\t</div>\n",
      "\t\t\t\t<div class=\"t-7\">\n",
      "\t\t\t\t</div>\n",
      "\t\t\t</li>\n",
      "\t\t\t<li class=\"li-0\">\n",
      "\t\t\t\t<div class=\"nt-4\">\n",
      "\t\t\t\t</div>\n",
      "\t\t\t\t<div class=\"t-7\">\n",
      "\t\t\t\t</div>\n",
      "\t\t\t</li>\n",
      "\t\t\t<li class=\"li-0\">\n",
      "\t\t\t\t<div class=\"nt-4\">\n",
      "\t\t\t\t</div>\n",
      "\t\t\t\t<div class=\"t-7\">\n",
      "\t\t\t\t</div>\n",
      "\t\t\t</li>\n",
      "\t\t</ul>\n",
      "\t\t<ul id=\"ul-6\">\n",
      "\t\t\t<li class=\"li-6\">\n",
      "\t\t\t\t<div class=\"t-6\">\n",
      "\t\t\t\t</div>\n",
      "\t\t\t</li>\n",
      "\t\t\t<li class=\"li-6\">\n",
      "\t\t\t\t<div class=\"t-6\">\n",
      "\t\t\t\t</div>\n",
      "\t\t\t</li>\n",
      "\t\t\t<li class=\"li-6\">\n",
      "\t\t\t\t<div class=\"t-6\">\n",
      "\t\t\t\t</div>\n",
      "\t\t\t</li>\n",
      "\t\t</ul>\n",
      "\t\t<div id=\"div-64\">\n",
      "\t\t</div>\n",
      "\t\t<div id=\"div-18\">\n",
      "\t\t</div>\n",
      "\t\t<div id=\"div-27\">\n",
      "\t\t</div>\n",
      "\t</div>\n",
      "\t<div>\n",
      "\t\t<ul id=\"ul-5\">\n",
      "\t\t\t<li class=\"li-5\">\n",
      "\t\t\t\t<div class=\"nt-3\">\n",
      "\t\t\t\t</div>\n",
      "\t\t\t</li>\n",
      "\t\t\t<li class=\"li-5\">\n",
      "\t\t\t\t<div class=\"nt-3\">\n",
      "\t\t\t\t</div>\n",
      "\t\t\t</li>\n",
      "\t\t</ul>\n",
      "\t</div>\n",
      "</div>\n",
      "\n"
     ]
    }
   ],
   "source": [
    "print(b.html_script)"
   ]
  },
  {
   "cell_type": "code",
   "execution_count": null,
   "metadata": {},
   "outputs": [],
   "source": []
  },
  {
   "cell_type": "code",
   "execution_count": 12,
   "metadata": {},
   "outputs": [
    {
     "data": {
      "text/plain": [
       "{'1': 20, '2': 30}"
      ]
     },
     "execution_count": 12,
     "metadata": {},
     "output_type": "execute_result"
    }
   ],
   "source": [
    "d1 = {}\n",
    "d2 = {'1':20, '2':30}\n",
    "d1.update(d2)\n",
    "d1"
   ]
  },
  {
   "cell_type": "code",
   "execution_count": 9,
   "metadata": {},
   "outputs": [
    {
     "ename": "NameError",
     "evalue": "name 'li' is not defined",
     "output_type": "error",
     "traceback": [
      "\u001b[1;31m---------------------------------------------------------------------------\u001b[0m",
      "\u001b[1;31mNameError\u001b[0m                                 Traceback (most recent call last)",
      "\u001b[1;32m<ipython-input-9-c86ff1442bd2>\u001b[0m in \u001b[0;36m<module>\u001b[1;34m()\u001b[0m\n\u001b[0;32m      1\u001b[0m \u001b[0mpage\u001b[0m \u001b[1;33m=\u001b[0m \u001b[0mPage\u001b[0m\u001b[1;33m(\u001b[0m\u001b[1;33m)\u001b[0m\u001b[1;33m\u001b[0m\u001b[0m\n\u001b[0;32m      2\u001b[0m \u001b[1;32mfor\u001b[0m \u001b[0mblock\u001b[0m \u001b[1;32min\u001b[0m \u001b[0mblocks\u001b[0m\u001b[1;33m:\u001b[0m\u001b[1;33m\u001b[0m\u001b[0m\n\u001b[1;32m----> 3\u001b[1;33m     \u001b[0mpage\u001b[0m\u001b[1;33m.\u001b[0m\u001b[0madd_compo\u001b[0m\u001b[1;33m(\u001b[0m\u001b[0mli\u001b[0m\u001b[1;33m.\u001b[0m\u001b[0mhtml_script\u001b[0m\u001b[1;33m,\u001b[0m \u001b[0mli\u001b[0m\u001b[1;33m.\u001b[0m\u001b[0mcss_script\u001b[0m\u001b[1;33m)\u001b[0m\u001b[1;33m\u001b[0m\u001b[0m\n\u001b[0m",
      "\u001b[1;31mNameError\u001b[0m: name 'li' is not defined"
     ]
    }
   ],
   "source": [
    "page = Page()\n",
    "for li in lists:\n",
    "    page.add_compo(li.html_script, li.css_script)"
   ]
  },
  {
   "cell_type": "code",
   "execution_count": 8,
   "metadata": {},
   "outputs": [],
   "source": [
    "page.export()"
   ]
  }
 ],
 "metadata": {
  "kernelspec": {
   "display_name": "Python 3",
   "language": "python",
   "name": "python3"
  },
  "language_info": {
   "codemirror_mode": {
    "name": "ipython",
    "version": 3
   },
   "file_extension": ".py",
   "mimetype": "text/x-python",
   "name": "python",
   "nbconvert_exporter": "python",
   "pygments_lexer": "ipython3",
   "version": "3.5.6"
  }
 },
 "nbformat": 4,
 "nbformat_minor": 2
}
