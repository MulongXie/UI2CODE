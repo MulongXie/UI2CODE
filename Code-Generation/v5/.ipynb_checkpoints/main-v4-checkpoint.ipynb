{
 "cells": [
  {
   "cell_type": "code",
   "execution_count": 1,
   "metadata": {},
   "outputs": [],
   "source": [
    "import numpy as np\n",
    "import pandas as pd\n",
    "\n",
    "from Compos_DF import ComposDF\n",
    "from Compo_HTML import *\n",
    "from Block import *\n",
    "import draw"
   ]
  },
  {
   "cell_type": "code",
   "execution_count": 2,
   "metadata": {},
   "outputs": [],
   "source": [
    "name = 'data/9'\n",
    "compos = ComposDF(name + '.json', name + '.png')\n",
    "img = compos.img.copy()\n",
    "img_shape = compos.img_shape"
   ]
  },
  {
   "cell_type": "code",
   "execution_count": 3,
   "metadata": {
    "scrolled": true
   },
   "outputs": [],
   "source": [
    "compos.repetitive_group_recognition()    # group_nontext, group_text\n",
    "compos.pair_groups()                     # pair, pair_to, group\n",
    "compos.list_item_partition()             # list_item"
   ]
  },
  {
   "cell_type": "code",
   "execution_count": 4,
   "metadata": {},
   "outputs": [],
   "source": [
    "# compos.visualize_block('group')\n",
    "# compos.visualize_block('pair')"
   ]
  },
  {
   "cell_type": "code",
   "execution_count": 5,
   "metadata": {},
   "outputs": [],
   "source": [
    "blocks = gather_blocks(compos.compos_dataframe)"
   ]
  },
  {
   "cell_type": "code",
   "execution_count": 10,
   "metadata": {},
   "outputs": [
    {
     "data": {
      "text/html": [
       "<div>\n",
       "<style scoped>\n",
       "    .dataframe tbody tr th:only-of-type {\n",
       "        vertical-align: middle;\n",
       "    }\n",
       "\n",
       "    .dataframe tbody tr th {\n",
       "        vertical-align: top;\n",
       "    }\n",
       "\n",
       "    .dataframe thead th {\n",
       "        text-align: right;\n",
       "    }\n",
       "</style>\n",
       "<table border=\"1\" class=\"dataframe\">\n",
       "  <thead>\n",
       "    <tr style=\"text-align: right;\">\n",
       "      <th></th>\n",
       "      <th>id</th>\n",
       "      <th>column_min</th>\n",
       "      <th>column_max</th>\n",
       "      <th>row_min</th>\n",
       "      <th>row_max</th>\n",
       "      <th>center</th>\n",
       "      <th>center_column</th>\n",
       "      <th>center_row</th>\n",
       "      <th>height</th>\n",
       "      <th>width</th>\n",
       "      <th>area</th>\n",
       "      <th>class</th>\n",
       "      <th>alignment_list</th>\n",
       "      <th>block</th>\n",
       "      <th>pair_to</th>\n",
       "      <th>list</th>\n",
       "      <th>alignment_item</th>\n",
       "      <th>list_item</th>\n",
       "    </tr>\n",
       "  </thead>\n",
       "  <tbody>\n",
       "    <tr>\n",
       "      <th>44</th>\n",
       "      <td>44</td>\n",
       "      <td>460</td>\n",
       "      <td>493</td>\n",
       "      <td>300</td>\n",
       "      <td>333</td>\n",
       "      <td>(476.5, 316.5)</td>\n",
       "      <td>476.5</td>\n",
       "      <td>316.5</td>\n",
       "      <td>33</td>\n",
       "      <td>33</td>\n",
       "      <td>1089</td>\n",
       "      <td>Compo</td>\n",
       "      <td>v</td>\n",
       "      <td>nt-4</td>\n",
       "      <td>45</td>\n",
       "      <td>1</td>\n",
       "      <td>h</td>\n",
       "      <td>44</td>\n",
       "    </tr>\n",
       "    <tr>\n",
       "      <th>46</th>\n",
       "      <td>46</td>\n",
       "      <td>460</td>\n",
       "      <td>493</td>\n",
       "      <td>340</td>\n",
       "      <td>373</td>\n",
       "      <td>(476.5, 356.5)</td>\n",
       "      <td>476.5</td>\n",
       "      <td>356.5</td>\n",
       "      <td>33</td>\n",
       "      <td>33</td>\n",
       "      <td>1089</td>\n",
       "      <td>Compo</td>\n",
       "      <td>v</td>\n",
       "      <td>nt-4</td>\n",
       "      <td>47</td>\n",
       "      <td>1</td>\n",
       "      <td>h</td>\n",
       "      <td>46</td>\n",
       "    </tr>\n",
       "    <tr>\n",
       "      <th>50</th>\n",
       "      <td>50</td>\n",
       "      <td>460</td>\n",
       "      <td>493</td>\n",
       "      <td>379</td>\n",
       "      <td>412</td>\n",
       "      <td>(476.5, 395.5)</td>\n",
       "      <td>476.5</td>\n",
       "      <td>395.5</td>\n",
       "      <td>33</td>\n",
       "      <td>33</td>\n",
       "      <td>1089</td>\n",
       "      <td>Compo</td>\n",
       "      <td>v</td>\n",
       "      <td>nt-4</td>\n",
       "      <td>51</td>\n",
       "      <td>1</td>\n",
       "      <td>h</td>\n",
       "      <td>50</td>\n",
       "    </tr>\n",
       "  </tbody>\n",
       "</table>\n",
       "</div>"
      ],
      "text/plain": [
       "    id  column_min  column_max  row_min  row_max          center  \\\n",
       "44  44         460         493      300      333  (476.5, 316.5)   \n",
       "46  46         460         493      340      373  (476.5, 356.5)   \n",
       "50  50         460         493      379      412  (476.5, 395.5)   \n",
       "\n",
       "    center_column  center_row  height  width  area  class alignment_list  \\\n",
       "44          476.5       316.5      33     33  1089  Compo              v   \n",
       "46          476.5       356.5      33     33  1089  Compo              v   \n",
       "50          476.5       395.5      33     33  1089  Compo              v   \n",
       "\n",
       "   block  pair_to  list alignment_item  list_item  \n",
       "44  nt-4       45     1              h         44  \n",
       "46  nt-4       47     1              h         46  \n",
       "50  nt-4       51     1              h         50  "
      ]
     },
     "execution_count": 10,
     "metadata": {},
     "output_type": "execute_result"
    }
   ],
   "source": [
    "block = blocks[4]\n",
    "block.group_list_items()\n",
    "block.generate_element_html()\n",
    "block.compos_df"
   ]
  },
  {
   "cell_type": "code",
   "execution_count": 19,
   "metadata": {},
   "outputs": [],
   "source": [
    "n = draw.visualize_block(compos.img, block.compos_df, compos.img_shape)"
   ]
  },
  {
   "cell_type": "code",
   "execution_count": 15,
   "metadata": {},
   "outputs": [],
   "source": [
    "for list_item in block.list_item_groups:\n",
    "    alignment = list_item.iloc[0]['alignment_item']\n",
    "    if alignment == 'h':\n",
    "        list_item = list_item.sort_values('column_min')\n",
    "    if alignment == 'v':\n",
    "        list_item = list_item.sort_values('row_min')"
   ]
  },
  {
   "cell_type": "code",
   "execution_count": 20,
   "metadata": {},
   "outputs": [
    {
     "data": {
      "text/plain": [
       "14"
      ]
     },
     "execution_count": 20,
     "metadata": {},
     "output_type": "execute_result"
    }
   ],
   "source": [
    "len(block.list_item_groups)"
   ]
  },
  {
   "cell_type": "code",
   "execution_count": 21,
   "metadata": {},
   "outputs": [
    {
     "data": {
      "text/plain": [
       "14"
      ]
     },
     "execution_count": 21,
     "metadata": {},
     "output_type": "execute_result"
    }
   ],
   "source": [
    "len(block.compos_df)"
   ]
  },
  {
   "cell_type": "code",
   "execution_count": 23,
   "metadata": {},
   "outputs": [],
   "source": [
    "compos.visualize_block('group')"
   ]
  },
  {
   "cell_type": "code",
   "execution_count": 8,
   "metadata": {},
   "outputs": [
    {
     "data": {
      "text/plain": [
       "array([[[ 77,  15,  42],\n",
       "        [ 81,  17,  45],\n",
       "        [ 81,  17,  45],\n",
       "        ...,\n",
       "        [ 81,  17,  45],\n",
       "        [ 81,  17,  45],\n",
       "        [ 77,  15,  42]],\n",
       "\n",
       "       [[ 77,  16,  42],\n",
       "        [ 82,  17,  45],\n",
       "        [ 82,  17,  45],\n",
       "        ...,\n",
       "        [ 82,  17,  45],\n",
       "        [ 82,  17,  45],\n",
       "        [ 77,  16,  43]],\n",
       "\n",
       "       [[ 77,  15,  42],\n",
       "        [ 82,  17,  45],\n",
       "        [ 82,  17,  45],\n",
       "        ...,\n",
       "        [ 82,  17,  45],\n",
       "        [ 82,  17,  45],\n",
       "        [ 77,  16,  43]],\n",
       "\n",
       "       ...,\n",
       "\n",
       "       [[255, 255, 255],\n",
       "        [255, 255, 255],\n",
       "        [255, 255, 255],\n",
       "        ...,\n",
       "        [255, 255, 255],\n",
       "        [255, 255, 255],\n",
       "        [255, 255, 255]],\n",
       "\n",
       "       [[255, 255, 255],\n",
       "        [255, 255, 255],\n",
       "        [255, 255, 255],\n",
       "        ...,\n",
       "        [255, 255, 255],\n",
       "        [255, 255, 255],\n",
       "        [255, 255, 255]],\n",
       "\n",
       "       [[255, 255, 255],\n",
       "        [255, 255, 255],\n",
       "        [255, 255, 255],\n",
       "        ...,\n",
       "        [255, 255, 255],\n",
       "        [255, 255, 255],\n",
       "        [255, 255, 255]]], dtype=uint8)"
      ]
     },
     "execution_count": 8,
     "metadata": {},
     "output_type": "execute_result"
    }
   ],
   "source": [
    "draw.visualize_block(compos.img, block.compos_df, compos.img_shape)"
   ]
  },
  {
   "cell_type": "code",
   "execution_count": null,
   "metadata": {},
   "outputs": [],
   "source": []
  }
 ],
 "metadata": {
  "kernelspec": {
   "display_name": "Python 3",
   "language": "python",
   "name": "python3"
  },
  "language_info": {
   "codemirror_mode": {
    "name": "ipython",
    "version": 3
   },
   "file_extension": ".py",
   "mimetype": "text/x-python",
   "name": "python",
   "nbconvert_exporter": "python",
   "pygments_lexer": "ipython3",
   "version": "3.5.6"
  }
 },
 "nbformat": 4,
 "nbformat_minor": 2
}
