{
 "cells": [
  {
   "cell_type": "code",
   "execution_count": 1,
   "metadata": {},
   "outputs": [],
   "source": [
    "import numpy as np\n",
    "import pandas as pd\n",
    "\n",
    "from obj.Compos_DF import ComposDF\n",
    "from obj.Compo_HTML import *\n",
    "from obj.List import *\n",
    "import lib.draw as draw\n",
    "from obj.Page import Page"
   ]
  },
  {
   "cell_type": "code",
   "execution_count": 2,
   "metadata": {},
   "outputs": [],
   "source": [
    "name = 'data/9'\n",
    "compos = ComposDF(name + '.json', name + '.png')\n",
    "img = compos.img.copy()\n",
    "img_shape = compos.img_shape"
   ]
  },
  {
   "cell_type": "code",
   "execution_count": 3,
   "metadata": {
    "scrolled": true
   },
   "outputs": [],
   "source": [
    "compos.repetitive_group_recognition()    # group_nontext, group_text\n",
    "compos.pair_groups()                     # pair, pair_to, group\n",
    "compos.list_item_partition()             # list_item"
   ]
  },
  {
   "cell_type": "code",
   "execution_count": 4,
   "metadata": {},
   "outputs": [],
   "source": [
    "# compos.visualize_block('group')\n",
    "# compos.visualize_block('pair')"
   ]
  },
  {
   "cell_type": "code",
   "execution_count": 5,
   "metadata": {},
   "outputs": [],
   "source": [
    "lists, non_listed_compos = gather_lists_by_pairing(compos.compos_dataframe[1:])"
   ]
  },
  {
   "cell_type": "code",
   "execution_count": 6,
   "metadata": {},
   "outputs": [],
   "source": [
    "generate_lists_html_css(lists)"
   ]
  },
  {
   "cell_type": "code",
   "execution_count": 7,
   "metadata": {},
   "outputs": [
    {
     "data": {
      "text/plain": [
       "[<obj.Compo_HTML.CompoHTML at 0x1cd4a0d02b0>,\n",
       " <obj.Compo_HTML.CompoHTML at 0x1cd4a0d00b8>,\n",
       " <obj.Compo_HTML.CompoHTML at 0x1cd4a0d05c0>,\n",
       " <obj.Compo_HTML.CompoHTML at 0x1cd4a0d04a8>,\n",
       " <obj.Compo_HTML.CompoHTML at 0x1cd4a0d06d8>,\n",
       " <obj.Compo_HTML.CompoHTML at 0x1cd4a0d07f0>,\n",
       " <obj.Compo_HTML.CompoHTML at 0x1cd4a0d08d0>,\n",
       " <obj.Compo_HTML.CompoHTML at 0x1cd4a0d09b0>,\n",
       " <obj.Compo_HTML.CompoHTML at 0x1cd4a0d0a90>,\n",
       " <obj.Compo_HTML.CompoHTML at 0x1cd4a0d0b70>,\n",
       " <obj.Compo_HTML.CompoHTML at 0x1cd4a0d0c50>]"
      ]
     },
     "execution_count": 7,
     "metadata": {},
     "output_type": "execute_result"
    }
   ],
   "source": [
    "non_listed_compos"
   ]
  },
  {
   "cell_type": "code",
   "execution_count": 8,
   "metadata": {},
   "outputs": [],
   "source": [
    "visualize_CompoHTMLs(non_listed_compos, compos.img, compos.img_shape)"
   ]
  },
  {
   "cell_type": "code",
   "execution_count": 10,
   "metadata": {},
   "outputs": [],
   "source": [
    "list_compos = [li.list_obj for li in lists]"
   ]
  },
  {
   "cell_type": "code",
   "execution_count": 11,
   "metadata": {},
   "outputs": [
    {
     "data": {
      "text/plain": [
       "[<obj.Compo_HTML.CompoHTML at 0x1cd45ba7940>,\n",
       " <obj.Compo_HTML.CompoHTML at 0x1cd4ae8b2e8>,\n",
       " <obj.Compo_HTML.CompoHTML at 0x1cd4ae9a208>,\n",
       " <obj.Compo_HTML.CompoHTML at 0x1cd4aeab0f0>,\n",
       " <obj.Compo_HTML.CompoHTML at 0x1cd4aeb1860>,\n",
       " <obj.Compo_HTML.CompoHTML at 0x1cd4aeb60f0>,\n",
       " <obj.Compo_HTML.CompoHTML at 0x1cd4aeb6ac8>,\n",
       " <obj.Compo_HTML.CompoHTML at 0x1cd4aeab438>]"
      ]
     },
     "execution_count": 11,
     "metadata": {},
     "output_type": "execute_result"
    }
   ],
   "source": [
    "list_compos"
   ]
  },
  {
   "cell_type": "code",
   "execution_count": 12,
   "metadata": {},
   "outputs": [],
   "source": [
    "visualize_CompoHTMLs(list_compos, compos.img, compos.img_shape)"
   ]
  },
  {
   "cell_type": "code",
   "execution_count": null,
   "metadata": {},
   "outputs": [],
   "source": []
  },
  {
   "cell_type": "code",
   "execution_count": 7,
   "metadata": {},
   "outputs": [],
   "source": [
    "page = Page()\n",
    "for li in lists:\n",
    "    page.add_compo(li.html_script, li.css_script)"
   ]
  },
  {
   "cell_type": "code",
   "execution_count": 8,
   "metadata": {},
   "outputs": [],
   "source": [
    "page.export()"
   ]
  },
  {
   "cell_type": "code",
   "execution_count": null,
   "metadata": {},
   "outputs": [],
   "source": []
  }
 ],
 "metadata": {
  "kernelspec": {
   "display_name": "Python 3",
   "language": "python",
   "name": "python3"
  },
  "language_info": {
   "codemirror_mode": {
    "name": "ipython",
    "version": 3
   },
   "file_extension": ".py",
   "mimetype": "text/x-python",
   "name": "python",
   "nbconvert_exporter": "python",
   "pygments_lexer": "ipython3",
   "version": "3.5.6"
  }
 },
 "nbformat": 4,
 "nbformat_minor": 2
}
