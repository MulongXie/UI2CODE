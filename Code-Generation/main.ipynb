{
 "cells": [
  {
   "cell_type": "code",
   "execution_count": 1,
   "metadata": {},
   "outputs": [],
   "source": [
    "import numpy as np\n",
    "from DF_Compos import DF_Compos\n",
    "from Group import *\n",
    "from repetition_recog import *\n",
    "from pairing import *\n",
    "import draw"
   ]
  },
  {
   "cell_type": "code",
   "execution_count": 2,
   "metadata": {},
   "outputs": [],
   "source": [
    "name = 'data/9'\n",
    "compos = DF_Compos(name + '.json', name + '.png')\n",
    "img = compos.img.copy()\n",
    "img_shape = compos.img_shape"
   ]
  },
  {
   "cell_type": "code",
   "execution_count": 3,
   "metadata": {},
   "outputs": [],
   "source": [
    "# recognize repetition\n",
    "compos_nontext = recog_repetition_nontext(compos, show=False)\n",
    "compos_text = recog_repetition_text(compos, show=False)"
   ]
  },
  {
   "cell_type": "code",
   "execution_count": 4,
   "metadata": {},
   "outputs": [],
   "source": [
    "# select all repetitive compos and group them by repetition\n",
    "groups_nontext, no_groups_nontext = compos_nontext.cvt_groups('group_nontext', 'nontext')\n",
    "groups_text, no_groups_text = compos_text.cvt_groups('group_text', 'text')\n",
    "all_groups = groups_nontext + groups_text"
   ]
  },
  {
   "cell_type": "code",
   "execution_count": 5,
   "metadata": {},
   "outputs": [],
   "source": [
    "# pair differnet repetition to search for possible combination\n",
    "pairs, no_pairs = pair_matching_within_groups(all_groups)\n",
    "df_pairs = pair_cvt_df(pairs)"
   ]
  },
  {
   "cell_type": "code",
   "execution_count": 6,
   "metadata": {},
   "outputs": [],
   "source": [
    "df_no_groups = no_groups_nontext.append(no_groups_text, sort=False)\n",
    "df_no_pairs = groups_cvt_df(no_pairs)\n",
    "df_all = df_no_groups.append(df_no_pairs, sort=False).append(df_pairs, sort=False)"
   ]
  },
  {
   "cell_type": "code",
   "execution_count": 7,
   "metadata": {},
   "outputs": [],
   "source": [
    "df_all[list(df_all.filter(like='group'))] = df_all[list(df_all.filter(like='group'))].fillna(-1).astype(int)\n",
    "df_all['pair'] = df_all['pair'].fillna(-1).astype(int)\n",
    "# df_all['pair_to'] = df_all['pair_to'].fillna(-1).astype(int)"
   ]
  },
  {
   "cell_type": "code",
   "execution_count": 8,
   "metadata": {},
   "outputs": [],
   "source": [
    "b = draw.visualize_block(img, df_all, img_shape, attr='pair')"
   ]
  },
  {
   "cell_type": "code",
   "execution_count": 9,
   "metadata": {},
   "outputs": [],
   "source": [
    "df_all.to_csv('data/9_rept.csv')"
   ]
  }
 ],
 "metadata": {
  "kernelspec": {
   "display_name": "Python 3",
   "language": "python",
   "name": "python3"
  },
  "language_info": {
   "codemirror_mode": {
    "name": "ipython",
    "version": 3
   },
   "file_extension": ".py",
   "mimetype": "text/x-python",
   "name": "python",
   "nbconvert_exporter": "python",
   "pygments_lexer": "ipython3",
   "version": "3.5.6"
  }
 },
 "nbformat": 4,
 "nbformat_minor": 2
}
