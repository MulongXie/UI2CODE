{
 "cells": [
  {
   "cell_type": "code",
   "execution_count": 1,
   "metadata": {},
   "outputs": [],
   "source": [
    "import numpy as np\n",
    "import pandas as pd\n",
    "\n",
    "from obj.Compos_DF import ComposDF\n",
    "from obj.Compo_HTML import *\n",
    "from obj.List import *\n",
    "from obj.Block import *\n",
    "from obj.Group import *\n",
    "import lib.draw as draw\n",
    "from obj.Page import Page"
   ]
  },
  {
   "cell_type": "code",
   "execution_count": 2,
   "metadata": {},
   "outputs": [],
   "source": [
    "name = 'data/9'\n",
    "compos = ComposDF(name + '.json', name + '.png')\n",
    "img = compos.img.copy()\n",
    "img_shape = compos.img_shape\n",
    "img_re = cv2.resize(img, img_shape)"
   ]
  },
  {
   "cell_type": "code",
   "execution_count": 3,
   "metadata": {},
   "outputs": [
    {
     "name": "stdout",
     "output_type": "stream",
     "text": [
      "invalid: t-6\n"
     ]
    }
   ],
   "source": [
    "# ***Step 1*** repetitive list recognition\n",
    "compos.repetitive_group_recognition()    # group_nontext, group_text\n",
    "check_valid_group_by_interleaving(compos.compos_dataframe)\n",
    "compos.pair_groups()                     # group_pair, pair_to, group\n",
    "compos.list_item_partition()             # list_item\n",
    "# compos.visualize_block('group')\n",
    "# compos.visualize_block('group_pair')\n",
    "# compos.visualize_block('list_item')"
   ]
  },
  {
   "cell_type": "code",
   "execution_count": 4,
   "metadata": {},
   "outputs": [],
   "source": [
    "# ***Step 2*** mark compos in same group as a single list, mark compos in same group_pair as a multiple list\n",
    "lists, non_listed_compos = gather_lists_by_pair_and_group(compos.compos_dataframe[1:])\n",
    "generate_lists_html_css(lists)\n",
    "visualize_lists(img_re, lists)"
   ]
  },
  {
   "cell_type": "code",
   "execution_count": null,
   "metadata": {},
   "outputs": [],
   "source": [
    "def segment_block_h(compos_html):\n",
    "    compos_html.sort(key=lambda x: x.left)\n",
    "    \n",
    "    divider = compos_html[0].right\n",
    "    block_compos = [compos_html[0]]\n",
    "    blocks = []\n",
    "\n",
    "    for compo in compos_html[1:]:\n",
    "        # segment the previous compos as a block\n",
    "        if divider < compo.left:\n",
    "            margin = int(compo.left - divider)\n",
    "            css_name = '#block-' + str(block_id)\n",
    "            css = CSS(css_name, margin_right=str(int(compo.top - divider)) + 'px', clear='left', border=\"solid 2px black\")\n",
    "            blocks.append(Block(id=block_id, compos=block_compos, slice_sub_block_direction=next_direction, html_id='block-' + str(block_id), css={css_name: css}))\n",
    "            \n",
    "            divider = compo.right\n",
    "            block_id += 1\n",
    "            \n",
    "            block_compos = []\n",
    "        # extend block\n",
    "        elif compo.left < divider < compo.right:\n",
    "            divider = compo.right\n",
    "        block_compos.append(compo)\n",
    "    \n",
    "    if len(blocks) > 0 and len(block_compos) > 1:\n",
    "        block_id += 1\n",
    "        css_name = '#block-' + str(block_id)\n",
    "        css = CSS(css_name, margin_top=str(int(block_compos[0].top - prev_divider)) + 'px', clear='left', border=\"solid 2px black\")\n",
    "        blocks.append(Block(id=block_id, compos=block_compos, slice_sub_block_direction=next_direction,\n",
    "                            html_id='block-' + str(block_id), css={css_name: css}))\n",
    "    return blocks  "
   ]
  },
  {
   "cell_type": "code",
   "execution_count": null,
   "metadata": {},
   "outputs": [],
   "source": [
    "def segment_block_v(compos_html):\n",
    "    compos_html.sort(key=lambda x: x.top)\n",
    "    other_compos = compos_html\n",
    "    \n",
    "    divider = compos_html[0].top\n",
    "    block_compos = [compos_html[0]]\n",
    "    blocks = []\n",
    "    \n",
    "    for compo in compos_html[1:]:\n",
    "        # segment the previous compos as a block\n",
    "        if divider < compo.top:\n",
    "            margin = int(compo.top - divider)\n",
    "            css_name = '#block-' + str(block_id)\n",
    "            css = CSS('#block-' + str(block_id)\n",
    "                      , margin_bottom=str(int(compo.top - divider)) + 'px', clear='left', border=\"solid 2px black\")\n",
    "            blocks.append(Block(id=block_id, compos=block_compos, slice_sub_block_direction=next_direction, html_id='block-' + str(block_id), css={css_name: css}))\n",
    "            divider = compo.bottom\n",
    "            block_id += 1\n",
    "            # remove blocked compos\n",
    "            other_compos = list(set(other_compos) - set(block_compos))\n",
    "            \n",
    "            blks_v = segment_block_h(other_compos)\n",
    "            if len(blks_v) > 0:\n",
    "                blocks += blks_v\n",
    "                break\n",
    "                \n",
    "            block_compos = []\n",
    "        # extend block\n",
    "        elif compo.top <= divider < compo.bottom:\n",
    "            divider = compo.bottom\n",
    "        block_compos.append(compo)"
   ]
  },
  {
   "cell_type": "code",
   "execution_count": 11,
   "metadata": {},
   "outputs": [],
   "source": [
    "def slice_blocks(compos_html, direction='v'):\n",
    "    '''\n",
    "    Vertically or horizontally scan compos\n",
    "    :param direction: slice vertically or horizontally\n",
    "    :param compos_html: CompoHTML objects, including elements and lists\n",
    "    :return blocks: list of [Block objs]\n",
    "    :return compos_html: list of compos not blocked: list of [CompoHTML objects]\n",
    "    '''\n",
    "    blocks = []\n",
    "    block_compos = []\n",
    "    non_blocked_compos = compos_html\n",
    "    global block_id\n",
    "\n",
    "    divider = -1\n",
    "    prev_divider = 0\n",
    "    if direction == 'v':\n",
    "        # reverse the direction of next slicing\n",
    "        next_direction = 'h'\n",
    "        compos_html.sort(key=lambda x: x.top)\n",
    "        for compo in compos_html:\n",
    "            # new block\n",
    "            # if divider is above than this compo's top, then gather the previous block_compos as a block\n",
    "            if divider < compo.top:\n",
    "                prev_divider = divider\n",
    "                divider = compo.bottom\n",
    "\n",
    "                margin = int(compo.top - prev_divider)\n",
    "                # gather previous compos in a block\n",
    "                # a single compo is not be counted as a block\n",
    "                if len(block_compos) >= 1:\n",
    "                    block_id += 1\n",
    "                    css_name = '#block-' + str(block_id)\n",
    "                    css = CSS(css_name, margin_top=str(margin) + 'px', clear='left', border=\"solid 2px black\")\n",
    "                    blocks.append(Block(id=block_id, compos=block_compos, slice_sub_block_direction=next_direction,\n",
    "                                        html_id='block-'+str(block_id), css={css_name: css}))\n",
    "                    # remove blocked compos\n",
    "                    non_blocked_compos = list(set(non_blocked_compos) - set(block_compos))\n",
    "                block_compos = []\n",
    "                \n",
    "                board = img_re.copy()\n",
    "                compo.visualize(img_re, show=True)\n",
    "                cv2.line(board, (0, divider), (400, divider), (0,255,0), 2)\n",
    "                cv2.imshow('line', board)\n",
    "                cv2.waitKey()\n",
    "                cv2.destroyAllWindows()\n",
    "            # extend block\n",
    "            elif compo.top < divider < compo.bottom:\n",
    "                divider = compo.bottom\n",
    "            block_compos.append(compo)\n",
    "\n",
    "        # if there are some sub-blocks, gather the left compos as a block\n",
    "        if len(blocks) > 0 and len(block_compos) > 1:\n",
    "            block_id += 1\n",
    "            css_name = '#block-' + str(block_id)\n",
    "            css = CSS(css_name, margin_top=str(int(block_compos[0].top - prev_divider)) + 'px', clear='left', border=\"solid 2px black\")\n",
    "            blocks.append(Block(id=block_id, compos=block_compos, slice_sub_block_direction=next_direction,\n",
    "                                html_id='block-' + str(block_id), css={css_name: css}))\n",
    "            # remove blocked compos\n",
    "            non_blocked_compos = list(set(non_blocked_compos) - set(block_compos))\n",
    "\n",
    "    elif direction == 'h':\n",
    "        # reverse the direction of next slicing\n",
    "        next_direction = 'v'\n",
    "        compos_html.sort(key=lambda x: x.left)\n",
    "        for compo in compos_html:\n",
    "            # new block\n",
    "            # if divider is lefter than this compo's right, then gather the previous block_compos as a block\n",
    "            if divider < compo.left:\n",
    "                prev_divider = divider\n",
    "                divider = compo.right\n",
    "\n",
    "                margin = int(compo.left - prev_divider)\n",
    "                # gather previous compos in a block\n",
    "                # a single compo is not to be counted as a block\n",
    "                if len(block_compos) > 1:\n",
    "                    block_id += 1\n",
    "                    css_name = '#block-' + str(block_id)\n",
    "                    css = CSS(css_name, margin_left=str(margin) + 'px', float='left', border=\"solid 2px black\")\n",
    "                    blocks.append(Block(id=block_id, compos=block_compos, slice_sub_block_direction=next_direction,\n",
    "                                        html_id='block-' + str(block_id), css={css_name: css}))\n",
    "                    # remove blocked compos\n",
    "                    non_blocked_compos = list(set(non_blocked_compos) - set(block_compos))\n",
    "                block_compos = []\n",
    "            # extend block\n",
    "            elif compo.left < divider < compo.right:\n",
    "                divider = compo.right\n",
    "            block_compos.append(compo)\n",
    "\n",
    "        # if there are some sub-blocks, gather the left compos as a block\n",
    "        if len(blocks) > 0 and len(block_compos) > 1:\n",
    "            block_id += 1\n",
    "            css_name = '#block-' + str(block_id)\n",
    "            css = CSS(css_name, margin_left=str(int(block_compos[0].left - prev_divider)) + 'px', float='left', border=\"solid 2px black\")\n",
    "            blocks.append(Block(id=block_id, compos=block_compos, slice_sub_block_direction=next_direction,\n",
    "                                html_id='block-' + str(block_id), css={css_name: css}))\n",
    "            # remove blocked compos\n",
    "            non_blocked_compos = list(set(non_blocked_compos) - set(block_compos))\n",
    "\n",
    "    return blocks, non_blocked_compos"
   ]
  },
  {
   "cell_type": "code",
   "execution_count": 12,
   "metadata": {
    "scrolled": true
   },
   "outputs": [],
   "source": [
    "# ***Step 3*** slice compos as blocks\n",
    "compos_html = [li.list_obj for li in lists] + non_listed_compos\n",
    "blocks, non_blocked_compos = slice_blocks(compos_html, 'v')\n",
    "visualize_blocks(blocks, img, img_shape)"
   ]
  },
  {
   "cell_type": "code",
   "execution_count": 16,
   "metadata": {},
   "outputs": [],
   "source": [
    "visualize_CompoHTMLs(compos_html, img_re)"
   ]
  },
  {
   "cell_type": "code",
   "execution_count": null,
   "metadata": {},
   "outputs": [],
   "source": [
    "visualize_blocks(blocks, img, img_shape)"
   ]
  },
  {
   "cell_type": "code",
   "execution_count": 12,
   "metadata": {},
   "outputs": [
    {
     "name": "stdout",
     "output_type": "stream",
     "text": [
      "Num of sub_block:0; Num of element: 3\n"
     ]
    },
    {
     "data": {
      "text/plain": [
       "array([[[ 77,  15,  42],\n",
       "        [ 81,  17,  45],\n",
       "        [ 81,  17,  45],\n",
       "        ...,\n",
       "        [ 81,  17,  45],\n",
       "        [ 81,  17,  45],\n",
       "        [ 77,  15,  42]],\n",
       "\n",
       "       [[ 77,  16,  42],\n",
       "        [ 82,  17,  45],\n",
       "        [ 82,  17,  45],\n",
       "        ...,\n",
       "        [ 82,  17,  45],\n",
       "        [ 82,  17,  45],\n",
       "        [ 77,  16,  43]],\n",
       "\n",
       "       [[ 77,  15,  42],\n",
       "        [ 82,  17,  45],\n",
       "        [ 82,  17,  45],\n",
       "        ...,\n",
       "        [ 82,  17,  45],\n",
       "        [ 82,  17,  45],\n",
       "        [ 77,  16,  43]],\n",
       "\n",
       "       ...,\n",
       "\n",
       "       [[255, 255, 255],\n",
       "        [255, 255, 255],\n",
       "        [255, 255, 255],\n",
       "        ...,\n",
       "        [255, 255, 255],\n",
       "        [255, 255, 255],\n",
       "        [255, 255, 255]],\n",
       "\n",
       "       [[255, 255, 255],\n",
       "        [255, 255, 255],\n",
       "        [255, 255, 255],\n",
       "        ...,\n",
       "        [255, 255, 255],\n",
       "        [255, 255, 255],\n",
       "        [255, 255, 255]],\n",
       "\n",
       "       [[255, 255, 255],\n",
       "        [255, 255, 255],\n",
       "        [255, 255, 255],\n",
       "        ...,\n",
       "        [255, 255, 255],\n",
       "        [255, 255, 255],\n",
       "        [255, 255, 255]]], dtype=uint8)"
      ]
     },
     "execution_count": 12,
     "metadata": {},
     "output_type": "execute_result"
    }
   ],
   "source": [
    "blocks[4].visualize_sub_blocks_and_compos(img_re, recursive=True)"
   ]
  },
  {
   "cell_type": "code",
   "execution_count": 13,
   "metadata": {},
   "outputs": [],
   "source": [
    "# ***Step 4*** assembly html and css as web page\n",
    "page = Page()\n",
    "for block in blocks:\n",
    "    page.add_compo(block.html_script, block.css_script)\n",
    "page.export()"
   ]
  }
 ],
 "metadata": {
  "kernelspec": {
   "display_name": "Python 3",
   "language": "python",
   "name": "python3"
  },
  "language_info": {
   "codemirror_mode": {
    "name": "ipython",
    "version": 3
   },
   "file_extension": ".py",
   "mimetype": "text/x-python",
   "name": "python",
   "nbconvert_exporter": "python",
   "pygments_lexer": "ipython3",
   "version": "3.5.6"
  }
 },
 "nbformat": 4,
 "nbformat_minor": 2
}
