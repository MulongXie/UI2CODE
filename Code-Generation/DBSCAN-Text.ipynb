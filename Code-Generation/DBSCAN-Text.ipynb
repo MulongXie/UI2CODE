{
 "cells": [
  {
   "cell_type": "code",
   "execution_count": 1,
   "metadata": {},
   "outputs": [],
   "source": [
    "import json\n",
    "import pandas as pd\n",
    "import numpy as np\n",
    "import matplotlib.pyplot as plt\n",
    "import cv2\n",
    "from random import randint as rint\n",
    "from sklearn.cluster import DBSCAN"
   ]
  },
  {
   "cell_type": "code",
   "execution_count": 2,
   "metadata": {},
   "outputs": [],
   "source": [
    "def read_compos(file='compo.json'):\n",
    "    compos = json.load(open(file))['compos']\n",
    "    df = pd.DataFrame(columns=['id', 'column_min', 'column_max', 'row_min', 'row_max', 'center', 'height', 'width', 'area', 'class'])\n",
    "    for i, compo in enumerate(compos):\n",
    "        compo['area'] = compo['height'] * compo['width']\n",
    "        compo['center'] = ((compo['column_min'] + compo['column_max'])/2, (compo['row_min'] + compo['row_max'])/2)\n",
    "        df.loc[i] = compo\n",
    "    df = df[(df['class'] == 'Background') | (df['class'] == 'Text')]\n",
    "    # df = df[df['class'] != 'TextView']\n",
    "    return df"
   ]
  },
  {
   "cell_type": "code",
   "execution_count": 3,
   "metadata": {},
   "outputs": [],
   "source": [
    "def draw_rcolor(org, compos, opt='class', name='board'):\n",
    "    colors = {}\n",
    "    \n",
    "    img_h, img_w = compos.iloc[0].height, compos.iloc[0].width\n",
    "    img = cv2.resize(org, (img_w, img_h))\n",
    "    board = img.copy()\n",
    "    for i in range(len(compos)):\n",
    "        compo = compos.iloc[i]\n",
    "        if compo[opt] not in colors:\n",
    "            colors[compo[opt]] = (rint(0,255), rint(0,255), rint(0,255))\n",
    "        \n",
    "        board = cv2.rectangle(board, (compo.column_min, compo.row_min), (compo.column_max, compo.row_max), colors[compo[opt]], -1)\n",
    "    \n",
    "    cv2.imshow(name, board)\n",
    "    cv2.waitKey()\n",
    "    cv2.destroyAllWindows()"
   ]
  },
  {
   "cell_type": "code",
   "execution_count": 4,
   "metadata": {},
   "outputs": [],
   "source": [
    "def draw(org, compos, opt='class', name='board'):\n",
    "    img_h, img_w = compos.iloc[0].height, compos.iloc[0].width\n",
    "    img = cv2.resize(org, (img_w, img_h))\n",
    "    board = img.copy()\n",
    "    for i in range(len(compos)):\n",
    "        compo = compos.iloc[i]\n",
    "        board = cv2.rectangle(board, (compo.column_min, compo.row_min), (compo.column_max, compo.row_max), (255,0,0))\n",
    "        board = cv2.putText(board, str(compo[opt]), (compo.column_min+5, compo.row_min+20), cv2.FONT_HERSHEY_SIMPLEX, 0.4, (0,0,255), 1)\n",
    "    \n",
    "    cv2.imshow(name, board)\n",
    "    cv2.waitKey()\n",
    "    cv2.destroyAllWindows()"
   ]
  },
  {
   "cell_type": "code",
   "execution_count": 5,
   "metadata": {},
   "outputs": [],
   "source": [
    "def dbscan_clusterig(org, compos):\n",
    "    \n",
    "    # clustering by area    \n",
    "#     area = np.reshape(list(compos['width']), (-1, 1))\n",
    "#     clustering = DBSCAN(eps=15, min_samples=1).fit(area)\n",
    "#     compos['cluster_width'] = clustering.labels_\n",
    "#     draw_rcolor(org, compos, 'cluster_width', 'width')\n",
    "    \n",
    "    # clustering by top left points\n",
    "    top = np.reshape(list(compos['row_min']), (-1, 1))\n",
    "    clustering = DBSCAN(eps=5, min_samples=1).fit(top)\n",
    "    compos['cluster_top'] = clustering.labels_\n",
    "    draw(org, compos, 'cluster_top', 'top')\n",
    "    \n",
    "    left = np.reshape(list(compos['column_min']), (-1, 1))\n",
    "    clustering = DBSCAN(eps=5, min_samples=1).fit(left)\n",
    "    compos['cluster_left'] = clustering.labels_\n",
    "    draw(org, compos, 'cluster_left', 'left')\n",
    "    \n",
    "    # clustering by area   \n",
    "#     x = list(compos[['width', 'height']].values)\n",
    "#     x = np.reshape(x, (len(x), -1))\n",
    "#     clustering = DBSCAN(eps=15, min_samples=1).fit(x)\n",
    "#     compos['cluster_shape'] = clustering.labels_\n",
    "#     draw_rcolor(org, compos, 'cluster_shape', 'shape')"
   ]
  },
  {
   "cell_type": "code",
   "execution_count": 6,
   "metadata": {},
   "outputs": [],
   "source": [
    "def group_compos_by_top_left(org, compos):\n",
    "    g1 = compos.groupby(['cluster_top']).groups\n",
    "    g2 = compos.groupby(['cluster_left']).groups\n",
    "    \n",
    "    group_id = 0\n",
    "    compos['group'] = -1\n",
    "    for i in g1:\n",
    "        if len(g1[i]) > 1:\n",
    "            compos.loc[list(g1[i]), 'group'] = group_id\n",
    "            group_id += 1\n",
    "\n",
    "    for i in g2:\n",
    "        if len(g2[i]) > 1:\n",
    "            compos.loc[list(g2[i]), 'group'] = group_id\n",
    "            group_id += 1\n",
    "    \n",
    "    draw_rcolor(org, compos, 'group', 'group')        "
   ]
  },
  {
   "cell_type": "code",
   "execution_count": 7,
   "metadata": {},
   "outputs": [],
   "source": [
    "compos = read_compos()\n",
    "org = cv2.imread('9.png')\n",
    "# draw(org, compos)"
   ]
  },
  {
   "cell_type": "code",
   "execution_count": 8,
   "metadata": {},
   "outputs": [],
   "source": [
    "dbscan_clusterig(org, compos)"
   ]
  },
  {
   "cell_type": "code",
   "execution_count": 9,
   "metadata": {},
   "outputs": [],
   "source": [
    "group_compos_by_top_left(org, compos)"
   ]
  },
  {
   "cell_type": "code",
   "execution_count": null,
   "metadata": {},
   "outputs": [],
   "source": []
  },
  {
   "cell_type": "code",
   "execution_count": 24,
   "metadata": {},
   "outputs": [
    {
     "data": {
      "text/plain": [
       "(32, 2)"
      ]
     },
     "execution_count": 24,
     "metadata": {},
     "output_type": "execute_result"
    }
   ],
   "source": [
    "x = compos[['height', 'width']].values\n",
    "np.shape(x)"
   ]
  },
  {
   "cell_type": "code",
   "execution_count": 25,
   "metadata": {},
   "outputs": [],
   "source": [
    "l = ['a', 'b']"
   ]
  },
  {
   "cell_type": "code",
   "execution_count": 27,
   "metadata": {},
   "outputs": [
    {
     "data": {
      "text/plain": [
       "'a_b'"
      ]
     },
     "execution_count": 27,
     "metadata": {},
     "output_type": "execute_result"
    }
   ],
   "source": [
    "'_'.join(l)"
   ]
  },
  {
   "cell_type": "code",
   "execution_count": 12,
   "metadata": {},
   "outputs": [],
   "source": [
    "def group_by_mean_area(compos, index):\n",
    "    compo = compos.loc[index]\n",
    "    area_mean_top = compos[compos['cluster_top'] == compo['cluster_top']]['area'].mean()\n",
    "    area_mean_left = compos[compos['cluster_left'] == compo['cluster_left']]['area'].mean()\n",
    "    \n",
    "    compo_area = compo['area']\n",
    "    # depends on horizontal cluster\n",
    "    if abs(compo_area - area_mean_top) < abs(compo_area - area_mean_left):\n",
    "        return 0\n",
    "    # depends on vertical cluster\n",
    "    return 1"
   ]
  },
  {
   "cell_type": "code",
   "execution_count": 15,
   "metadata": {},
   "outputs": [],
   "source": [
    "group_id = 0\n",
    "compos['group'] = -1\n",
    "\n",
    "# group by horizontal alignment (top)\n",
    "g1 = compos.groupby(['cluster_top']).groups\n",
    "for i in g1:\n",
    "    if len(g1[i]) > 1:\n",
    "        compos.loc[list(g1[i]), 'group'] = group_id\n",
    "        group_id += 1\n",
    "\n",
    "# group by vertical alignment (left)\n",
    "g2 = compos.groupby(['cluster_left']).groups\n",
    "for i in g2:\n",
    "    if len(g2[i]) > 1:\n",
    "        for j in list(g2[i]):\n",
    "            if compos.loc[j, 'group'] == -1:\n",
    "                compos.loc[j, 'group'] = group_id\n",
    "                \n",
    "            # conflict raised if a component can be clustered both horizontally(top) and vertically(left) \n",
    "            # then double check it by area with the clustering average\n",
    "            else:\n",
    "                # subject to horizontal alignment\n",
    "                if group_by_mean_area(compos, j) == 0:\n",
    "                    continue\n",
    "                # subject to vertical alignment\n",
    "                else:\n",
    "                    compos.loc[j, 'group'] = group_id\n",
    "        group_id += 1\n",
    "\n",
    "draw_rcolor(org, compos, 'group', 'group')     "
   ]
  },
  {
   "cell_type": "code",
   "execution_count": 16,
   "metadata": {},
   "outputs": [],
   "source": [
    "draw_rcolor(org, c, 'group', 'group')"
   ]
  },
  {
   "cell_type": "code",
   "execution_count": null,
   "metadata": {},
   "outputs": [],
   "source": []
  }
 ],
 "metadata": {
  "kernelspec": {
   "display_name": "Python 3",
   "language": "python",
   "name": "python3"
  },
  "language_info": {
   "codemirror_mode": {
    "name": "ipython",
    "version": 3
   },
   "file_extension": ".py",
   "mimetype": "text/x-python",
   "name": "python",
   "nbconvert_exporter": "python",
   "pygments_lexer": "ipython3",
   "version": "3.5.6"
  }
 },
 "nbformat": 4,
 "nbformat_minor": 2
}
