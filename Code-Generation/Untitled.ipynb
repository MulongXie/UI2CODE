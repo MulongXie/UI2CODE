{
 "cells": [
  {
   "cell_type": "code",
   "execution_count": 1,
   "metadata": {},
   "outputs": [],
   "source": [
    "import numpy as np\n",
    "from DF_Compos import DF_Compos\n",
    "from Group import *\n",
    "from repetition_recog import *\n",
    "from pairing import *\n",
    "import draw\n",
    "import pandas as pd\n",
    "from List import *\n",
    "from Block import *"
   ]
  },
  {
   "cell_type": "code",
   "execution_count": 2,
   "metadata": {},
   "outputs": [],
   "source": [
    "compos = pd.read_csv('data/9_rept.csv', index_col=0)"
   ]
  },
  {
   "cell_type": "code",
   "execution_count": 3,
   "metadata": {},
   "outputs": [
    {
     "data": {
      "text/plain": [
       "{-1: Int64Index([27,  0,  1,  3,  6, 14, 16, 18, 63,  2, 15, 17,  4,  5,  7,  8,  9,\n",
       "             10, 11, 12, 13, 19, 41, 54],\n",
       "            dtype='int64'),\n",
       " 1: Int64Index([44, 46, 50, 45, 47, 51], dtype='int64'),\n",
       " 2: Int64Index([42, 48, 52, 55, 57, 59, 61, 43, 49, 53, 56, 58, 60, 62], dtype='int64'),\n",
       " 3: Int64Index([33, 34, 35, 29, 30, 31, 32, 25, 26, 28], dtype='int64'),\n",
       " 4: Int64Index([20, 21, 22, 23, 24, 36, 37, 38, 39, 40], dtype='int64')}"
      ]
     },
     "execution_count": 3,
     "metadata": {},
     "output_type": "execute_result"
    }
   ],
   "source": [
    "groups = compos.groupby('pair').groups\n",
    "groups"
   ]
  },
  {
   "cell_type": "code",
   "execution_count": 8,
   "metadata": {},
   "outputs": [],
   "source": [
    "blocks = []\n",
    "for i in groups:\n",
    "    if i == -1:\n",
    "        continue\n",
    "    group = groups[i]\n",
    "    compos_block = compos.loc[list(group)]\n",
    "    list_items = gather_list_items(compos_block)\n",
    "    block = Block(i, compos_block, list_items)\n",
    "    blocks.append(block)"
   ]
  },
  {
   "cell_type": "code",
   "execution_count": 14,
   "metadata": {},
   "outputs": [
    {
     "data": {
      "text/plain": [
       "{44: <List.ListItem at 0x25b87200cc0>,\n",
       " 46: <List.ListItem at 0x25b87200e10>,\n",
       " 50: <List.ListItem at 0x25b87200eb8>}"
      ]
     },
     "execution_count": 14,
     "metadata": {},
     "output_type": "execute_result"
    }
   ],
   "source": []
  },
  {
   "cell_type": "code",
   "execution_count": null,
   "metadata": {},
   "outputs": [],
   "source": []
  }
 ],
 "metadata": {
  "kernelspec": {
   "display_name": "Python 3",
   "language": "python",
   "name": "python3"
  },
  "language_info": {
   "codemirror_mode": {
    "name": "ipython",
    "version": 3
   },
   "file_extension": ".py",
   "mimetype": "text/x-python",
   "name": "python",
   "nbconvert_exporter": "python",
   "pygments_lexer": "ipython3",
   "version": "3.5.6"
  }
 },
 "nbformat": 4,
 "nbformat_minor": 2
}
