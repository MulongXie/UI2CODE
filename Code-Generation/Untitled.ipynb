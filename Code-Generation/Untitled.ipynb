{
 "cells": [
  {
   "cell_type": "code",
   "execution_count": 1,
   "metadata": {},
   "outputs": [],
   "source": [
    "import numpy as np\n",
    "from DF_Compos import DF_Compos\n",
    "from Group import *\n",
    "from repetition_recog import *\n",
    "import draw"
   ]
  },
  {
   "cell_type": "code",
   "execution_count": 2,
   "metadata": {},
   "outputs": [],
   "source": [
    "name = 'data/9'\n",
    "compos = DF_Compos(name + '.json', name + '.png')\n",
    "\n",
    "img = compos.img.copy()\n",
    "img_shape = compos.img_shape"
   ]
  },
  {
   "cell_type": "code",
   "execution_count": 3,
   "metadata": {},
   "outputs": [],
   "source": [
    "compos_nontext = recog_repetition_nontext(compos, show=False)\n",
    "compos_text = recog_repetition_text(compos, show=False)"
   ]
  },
  {
   "cell_type": "code",
   "execution_count": 4,
   "metadata": {},
   "outputs": [],
   "source": [
    "nontext_groups = compos_nontext.cvt_groups('group_nontext', 'nontext')\n",
    "text_groups = compos_text.cvt_groups('group_text', 'text')\n",
    "all_groups = nontext_groups + text_groups"
   ]
  },
  {
   "cell_type": "code",
   "execution_count": 5,
   "metadata": {},
   "outputs": [],
   "source": [
    "pairs = pair_matching_within_groups(all_groups)"
   ]
  },
  {
   "cell_type": "code",
   "execution_count": 6,
   "metadata": {},
   "outputs": [
    {
     "data": {
      "text/plain": [
       "{0: [<Group.Group at 0x27b104bb828>, <Group.Group at 0x27b10545470>],\n",
       " 1: [<Group.Group at 0x27b104bb898>, <Group.Group at 0x27b10545278>],\n",
       " 2: [<Group.Group at 0x27b104bbbe0>,\n",
       "  <Group.Group at 0x27b104cfba8>,\n",
       "  <Group.Group at 0x27b104bbb38>],\n",
       " 4: [<Group.Group at 0x27b0c0536a0>, <Group.Group at 0x27b0d0bf1d0>]}"
      ]
     },
     "execution_count": 6,
     "metadata": {},
     "output_type": "execute_result"
    }
   ],
   "source": [
    "pairs"
   ]
  },
  {
   "cell_type": "code",
   "execution_count": 7,
   "metadata": {},
   "outputs": [],
   "source": [
    "pair_visualization(pairs, img, img_shape)"
   ]
  },
  {
   "cell_type": "code",
   "execution_count": 7,
   "metadata": {},
   "outputs": [
    {
     "name": "stdout",
     "output_type": "stream",
     "text": [
      "Pair 7 8\n"
     ]
    }
   ],
   "source": [
    "pairs = pair_matching_within_groups(nontext_groups)\n",
    "pair_visualization(pairs, img, img_shape, show_method='block')"
   ]
  },
  {
   "cell_type": "code",
   "execution_count": 8,
   "metadata": {},
   "outputs": [
    {
     "name": "stdout",
     "output_type": "stream",
     "text": [
      "Pair: 4 7\n",
      "Pair: 5 8\n",
      "Pair: 8 1\n",
      "Pair: 9 2\n"
     ]
    }
   ],
   "source": [
    "pairs = pair_matching_between_multi_groups(nontext_groups, text_groups)\n",
    "pair_visualization(pairs, img, img_shape, show_method='block')"
   ]
  },
  {
   "cell_type": "code",
   "execution_count": null,
   "metadata": {},
   "outputs": [],
   "source": []
  }
 ],
 "metadata": {
  "kernelspec": {
   "display_name": "Python 3",
   "language": "python",
   "name": "python3"
  },
  "language_info": {
   "codemirror_mode": {
    "name": "ipython",
    "version": 3
   },
   "file_extension": ".py",
   "mimetype": "text/x-python",
   "name": "python",
   "nbconvert_exporter": "python",
   "pygments_lexer": "ipython3",
   "version": "3.5.6"
  }
 },
 "nbformat": 4,
 "nbformat_minor": 2
}
