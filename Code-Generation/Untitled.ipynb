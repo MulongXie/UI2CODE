{
 "cells": [
  {
   "cell_type": "code",
   "execution_count": 1,
   "metadata": {},
   "outputs": [],
   "source": [
    "from DF_Compos import DF_Compos\n",
    "from repetition_recog import *"
   ]
  },
  {
   "cell_type": "code",
   "execution_count": 2,
   "metadata": {},
   "outputs": [],
   "source": [
    "name = 'data/9'\n",
    "compos = DF_Compos(name + '.json', name + '.png')"
   ]
  },
  {
   "cell_type": "code",
   "execution_count": 3,
   "metadata": {},
   "outputs": [],
   "source": [
    "compos_nontext = recog_repetition_nontext(compos, False)"
   ]
  },
  {
   "cell_type": "code",
   "execution_count": 4,
   "metadata": {},
   "outputs": [],
   "source": [
    "compos_text = recog_repetition_text(compos, False)"
   ]
  },
  {
   "cell_type": "code",
   "execution_count": 5,
   "metadata": {},
   "outputs": [],
   "source": [
    "compos_nontext.visualize_block('group_nontext')\n",
    "compos_text.visualize_block('group_text')"
   ]
  },
  {
   "cell_type": "code",
   "execution_count": 7,
   "metadata": {},
   "outputs": [],
   "source": [
    "c = compos_nontext.compos_dataframe"
   ]
  },
  {
   "cell_type": "code",
   "execution_count": 8,
   "metadata": {},
   "outputs": [
    {
     "data": {
      "text/plain": [
       "{-1: Int64Index([0, 1, 3, 6, 14, 16, 18, 63], dtype='int64'),\n",
       " 1: Int64Index([27], dtype='int64'),\n",
       " 3: Int64Index([15, 17], dtype='int64'),\n",
       " 4: Int64Index([44, 46, 50], dtype='int64'),\n",
       " 5: Int64Index([42, 48, 52, 55, 57, 59, 61], dtype='int64'),\n",
       " 6: Int64Index([4, 5], dtype='int64'),\n",
       " 7: Int64Index([33, 34, 35], dtype='int64'),\n",
       " 8: Int64Index([29, 30, 31, 32], dtype='int64'),\n",
       " 9: Int64Index([20, 21, 22, 23, 24], dtype='int64')}"
      ]
     },
     "execution_count": 8,
     "metadata": {},
     "output_type": "execute_result"
    }
   ],
   "source": [
    "c.groupby('group_nontext').groups"
   ]
  },
  {
   "cell_type": "code",
   "execution_count": null,
   "metadata": {},
   "outputs": [],
   "source": []
  }
 ],
 "metadata": {
  "kernelspec": {
   "display_name": "Python 3",
   "language": "python",
   "name": "python3"
  },
  "language_info": {
   "codemirror_mode": {
    "name": "ipython",
    "version": 3
   },
   "file_extension": ".py",
   "mimetype": "text/x-python",
   "name": "python",
   "nbconvert_exporter": "python",
   "pygments_lexer": "ipython3",
   "version": "3.5.6"
  }
 },
 "nbformat": 4,
 "nbformat_minor": 2
}
