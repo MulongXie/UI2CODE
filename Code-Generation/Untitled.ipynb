{
 "cells": [
  {
   "cell_type": "code",
   "execution_count": 1,
   "metadata": {},
   "outputs": [],
   "source": [
    "import numpy as np\n",
    "from DF_Compos import DF_Compos\n",
    "from Group import *\n",
    "from repetition_recog import *\n",
    "import draw"
   ]
  },
  {
   "cell_type": "code",
   "execution_count": 2,
   "metadata": {},
   "outputs": [],
   "source": [
    "name = 'data/9'\n",
    "compos = DF_Compos(name + '.json', name + '.png')\n",
    "\n",
    "img = compos.img.copy()\n",
    "img_shape = compos.img_shape"
   ]
  },
  {
   "cell_type": "code",
   "execution_count": 3,
   "metadata": {},
   "outputs": [],
   "source": [
    "compos_nontext = recog_repetition_nontext(compos, show=False)\n",
    "compos_text = recog_repetition_text(compos, show=False)"
   ]
  },
  {
   "cell_type": "code",
   "execution_count": 4,
   "metadata": {},
   "outputs": [],
   "source": [
    "g_nts = compos_nontext.cvt_groups('group_nontext', 'nontext')\n",
    "g_ts = compos_text.cvt_groups('group_text', 'text')"
   ]
  },
  {
   "cell_type": "code",
   "execution_count": 5,
   "metadata": {},
   "outputs": [
    {
     "name": "stdout",
     "output_type": "stream",
     "text": [
      "Pair: 4 7\n",
      "Pair: 5 8\n",
      "Pair: 8 1\n",
      "Pair: 9 2\n"
     ]
    }
   ],
   "source": [
    "pairs = pair_matching(g_nts, g_ts)"
   ]
  },
  {
   "cell_type": "code",
   "execution_count": 6,
   "metadata": {},
   "outputs": [
    {
     "data": {
      "text/plain": [
       "array([[[ 77,  15,  42],\n",
       "        [ 81,  17,  45],\n",
       "        [ 81,  17,  45],\n",
       "        ...,\n",
       "        [ 81,  17,  45],\n",
       "        [ 81,  17,  45],\n",
       "        [ 77,  15,  42]],\n",
       "\n",
       "       [[ 77,  16,  42],\n",
       "        [ 82,  17,  45],\n",
       "        [ 82,  17,  45],\n",
       "        ...,\n",
       "        [ 82,  17,  45],\n",
       "        [ 82,  17,  45],\n",
       "        [ 77,  16,  43]],\n",
       "\n",
       "       [[ 77,  15,  42],\n",
       "        [ 82,  17,  45],\n",
       "        [ 82,  17,  45],\n",
       "        ...,\n",
       "        [ 82,  17,  45],\n",
       "        [ 82,  17,  45],\n",
       "        [ 77,  16,  43]],\n",
       "\n",
       "       ...,\n",
       "\n",
       "       [[255, 255, 255],\n",
       "        [255, 255, 255],\n",
       "        [255, 255, 255],\n",
       "        ...,\n",
       "        [255, 255, 255],\n",
       "        [255, 255, 255],\n",
       "        [255, 255, 255]],\n",
       "\n",
       "       [[255, 255, 255],\n",
       "        [255, 255, 255],\n",
       "        [255, 255, 255],\n",
       "        ...,\n",
       "        [255, 255, 255],\n",
       "        [255, 255, 255],\n",
       "        [255, 255, 255]],\n",
       "\n",
       "       [[255, 255, 255],\n",
       "        [255, 255, 255],\n",
       "        [255, 255, 255],\n",
       "        ...,\n",
       "        [255, 255, 255],\n",
       "        [255, 255, 255],\n",
       "        [255, 255, 255]]], dtype=uint8)"
      ]
     },
     "execution_count": 6,
     "metadata": {},
     "output_type": "execute_result"
    }
   ],
   "source": [
    "pair_visualization(pairs, img, img_shape)"
   ]
  },
  {
   "cell_type": "code",
   "execution_count": null,
   "metadata": {},
   "outputs": [],
   "source": []
  }
 ],
 "metadata": {
  "kernelspec": {
   "display_name": "Python 3",
   "language": "python",
   "name": "python3"
  },
  "language_info": {
   "codemirror_mode": {
    "name": "ipython",
    "version": 3
   },
   "file_extension": ".py",
   "mimetype": "text/x-python",
   "name": "python",
   "nbconvert_exporter": "python",
   "pygments_lexer": "ipython3",
   "version": "3.5.6"
  }
 },
 "nbformat": 4,
 "nbformat_minor": 2
}
