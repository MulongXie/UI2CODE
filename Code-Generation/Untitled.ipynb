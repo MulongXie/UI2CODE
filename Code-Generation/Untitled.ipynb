{
 "cells": [
  {
   "cell_type": "code",
   "execution_count": 1,
   "metadata": {},
   "outputs": [],
   "source": [
    "import numpy as np\n",
    "from DF_Compos import DF_Compos\n",
    "from Group import *\n",
    "from repetition_recog import *\n",
    "import draw"
   ]
  },
  {
   "cell_type": "code",
   "execution_count": 2,
   "metadata": {},
   "outputs": [],
   "source": [
    "name = 'data/9'\n",
    "compos = DF_Compos(name + '.json', name + '.png')\n",
    "\n",
    "img = compos.img.copy()\n",
    "img_shape = compos.img_shape"
   ]
  },
  {
   "cell_type": "code",
   "execution_count": 3,
   "metadata": {},
   "outputs": [],
   "source": [
    "compos_nontext = recog_repetition_nontext(compos, show=False)\n",
    "compos_text = recog_repetition_text(compos, show=False)"
   ]
  },
  {
   "cell_type": "code",
   "execution_count": 4,
   "metadata": {},
   "outputs": [],
   "source": [
    "nontext_groups = compos_nontext.cvt_groups('group_nontext', 'nontext')\n",
    "text_groups = compos_text.cvt_groups('group_text', 'text')\n",
    "all_groups = nontext_groups + text_groups"
   ]
  },
  {
   "cell_type": "code",
   "execution_count": 6,
   "metadata": {},
   "outputs": [],
   "source": [
    "pairs = pair_matching_within_groups(all_groups)\n",
    "pair_visualization(pairs, img, img_shape, show_method='block')"
   ]
  },
  {
   "cell_type": "code",
   "execution_count": 5,
   "metadata": {},
   "outputs": [],
   "source": [
    "# pairs = pair_matching_between_multi_groups(nontext_groups, text_groups)\n",
    "# pair_visualization(pairs, img, img_shape, show_method='block')"
   ]
  }
 ],
 "metadata": {
  "kernelspec": {
   "display_name": "Python 3",
   "language": "python",
   "name": "python3"
  },
  "language_info": {
   "codemirror_mode": {
    "name": "ipython",
    "version": 3
   },
   "file_extension": ".py",
   "mimetype": "text/x-python",
   "name": "python",
   "nbconvert_exporter": "python",
   "pygments_lexer": "ipython3",
   "version": "3.5.6"
  }
 },
 "nbformat": 4,
 "nbformat_minor": 2
}
