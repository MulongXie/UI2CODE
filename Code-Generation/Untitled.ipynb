{
 "cells": [
  {
   "cell_type": "code",
   "execution_count": 1,
   "metadata": {},
   "outputs": [],
   "source": [
    "import numpy as np\n",
    "from DF_Compos import DF_Compos\n",
    "from Group import *\n",
    "from repetition_recog import *\n",
    "import draw"
   ]
  },
  {
   "cell_type": "code",
   "execution_count": 2,
   "metadata": {},
   "outputs": [],
   "source": [
    "name = 'data/9'\n",
    "compos = DF_Compos(name + '.json', name + '.png')\n",
    "\n",
    "img = compos.img.copy()\n",
    "img_shape = compos.img_shape"
   ]
  },
  {
   "cell_type": "code",
   "execution_count": 3,
   "metadata": {},
   "outputs": [],
   "source": [
    "compos_nontext = recog_repetition_nontext(compos, False)"
   ]
  },
  {
   "cell_type": "code",
   "execution_count": 4,
   "metadata": {},
   "outputs": [],
   "source": [
    "compos_text = recog_repetition_text(compos, False)"
   ]
  },
  {
   "cell_type": "code",
   "execution_count": 5,
   "metadata": {},
   "outputs": [],
   "source": [
    "g_nts = compos_nontext.cvt_groups('group_nontext', 'nontext')\n",
    "g_ts = compos_text.cvt_groups('group_text', 'text')"
   ]
  },
  {
   "cell_type": "code",
   "execution_count": 6,
   "metadata": {},
   "outputs": [
    {
     "name": "stdout",
     "output_type": "stream",
     "text": [
      "0 Int64Index([7, 8, 9, 10, 11, 12, 13], dtype='int64')\n",
      "1 Int64Index([25, 26, 28], dtype='int64')\n",
      "2 Int64Index([36, 37, 38, 39, 40], dtype='int64')\n",
      "6 Int64Index([19, 41, 54], dtype='int64')\n",
      "7 Int64Index([45, 47, 51], dtype='int64')\n",
      "8 Int64Index([43, 49, 53, 56, 58, 60, 62], dtype='int64')\n"
     ]
    }
   ],
   "source": [
    "for g_t in g_ts:\n",
    "    print(g_t.id, g_t.compos_ids)"
   ]
  },
  {
   "cell_type": "code",
   "execution_count": 8,
   "metadata": {},
   "outputs": [
    {
     "name": "stdout",
     "output_type": "stream",
     "text": [
      "3 : v 2\n",
      "0 : h 7 \n",
      "\n",
      "3 : v 2\n",
      "1 : h 3 \n",
      "\n",
      "3 : v 2\n",
      "2 : h 5 \n",
      "\n",
      "3 : v 2\n",
      "6 : nan 3 \n",
      "\n",
      "3 : v 2\n",
      "7 : nan 3 \n",
      "\n",
      "3 : v 2\n",
      "8 : nan 7 \n",
      "\n",
      "4 : v 3\n",
      "0 : h 7 \n",
      "\n",
      "4 : v 3\n",
      "1 : h 3 \n",
      "\n",
      "4 : v 3\n",
      "2 : h 5 \n",
      "\n",
      "4 : v 3\n",
      "6 : nan 3 \n",
      "\n",
      "4 : v 3\n",
      "7 : nan 3 \n",
      "\n",
      "4 : v 3\n",
      "8 : nan 7 \n",
      "\n",
      "5 : v 7\n",
      "0 : h 7 \n",
      "\n",
      "5 : v 7\n",
      "1 : h 3 \n",
      "\n",
      "5 : v 7\n",
      "2 : h 5 \n",
      "\n",
      "5 : v 7\n",
      "6 : nan 3 \n",
      "\n",
      "5 : v 7\n",
      "7 : nan 3 \n",
      "\n",
      "5 : v 7\n",
      "8 : nan 7 \n",
      "\n",
      "6 : h 2\n",
      "0 : h 7 \n",
      "\n",
      "6 : h 2\n",
      "1 : h 3 \n",
      "\n",
      "6 : h 2\n",
      "2 : h 5 \n",
      "\n",
      "6 : h 2\n",
      "6 : nan 3 \n",
      "\n",
      "6 : h 2\n",
      "7 : nan 3 \n",
      "\n",
      "6 : h 2\n",
      "8 : nan 7 \n",
      "\n",
      "7 : h 3\n",
      "0 : h 7 \n",
      "\n",
      "7 : h 3\n",
      "1 : h 3 \n",
      "\n",
      "7 : h 3\n",
      "2 : h 5 \n",
      "\n",
      "7 : h 3\n",
      "6 : nan 3 \n",
      "\n",
      "7 : h 3\n",
      "7 : nan 3 \n",
      "\n",
      "7 : h 3\n",
      "8 : nan 7 \n",
      "\n",
      "8 : h 4\n",
      "0 : h 7 \n",
      "\n",
      "8 : h 4\n",
      "1 : h 3 \n",
      "\n",
      "8 : h 4\n",
      "2 : h 5 \n",
      "\n",
      "8 : h 4\n",
      "6 : nan 3 \n",
      "\n",
      "8 : h 4\n",
      "7 : nan 3 \n",
      "\n",
      "8 : h 4\n",
      "8 : nan 7 \n",
      "\n",
      "9 : h 5\n",
      "0 : h 7 \n",
      "\n",
      "9 : h 5\n",
      "1 : h 3 \n",
      "\n",
      "9 : h 5\n",
      "2 : h 5 \n",
      "\n",
      "9 : h 5\n",
      "6 : nan 3 \n",
      "\n",
      "9 : h 5\n",
      "7 : nan 3 \n",
      "\n",
      "9 : h 5\n",
      "8 : nan 7 \n",
      "\n"
     ]
    }
   ],
   "source": [
    "pairs = []\n",
    "mark = np.full(len(g_ts), False)\n",
    "for i, g_nt in enumerate(g_nts):\n",
    "    for j, g_t in enumerate(g_ts):\n",
    "        print(g_nt.id, ':', g_nt.alignment, g_nt.compos_number)\n",
    "        print(g_t.id, ':', g_t.alignment, g_t.compos_number, '\\n')\n",
    "        \n",
    "#         if g_nt.alignment == g_t.alignment and abs(g_t.compos_number - g_nt.compos_number) <= 2:\n",
    "#             print(i, j)\n",
    "#             if match_two_groups(g_nt, g_t, 10):\n",
    "#                 pairs.append([g_nt, g_t])\n",
    "#                 print('Pair:', i, j)\n",
    "#                 mark[j] = True\n",
    "#                 break"
   ]
  },
  {
   "cell_type": "code",
   "execution_count": 9,
   "metadata": {},
   "outputs": [],
   "source": [
    "compos_nontext.visualize_block('group_nontext', name='nont')"
   ]
  },
  {
   "cell_type": "code",
   "execution_count": null,
   "metadata": {},
   "outputs": [],
   "source": [
    "compos_text.visualize_block('group_text', name='text')"
   ]
  },
  {
   "cell_type": "code",
   "execution_count": 17,
   "metadata": {},
   "outputs": [],
   "source": [
    "g_nts[1].visualize(img, img_shape)"
   ]
  },
  {
   "cell_type": "code",
   "execution_count": 15,
   "metadata": {},
   "outputs": [],
   "source": [
    "g_ts[1].visualize(img, img_shape)"
   ]
  },
  {
   "cell_type": "code",
   "execution_count": 13,
   "metadata": {},
   "outputs": [
    {
     "data": {
      "text/plain": [
       "[[<Group.Group at 0x257b27a4160>, <Group.Group at 0x257b27a4438>],\n",
       " [<Group.Group at 0x257b27a4630>, <Group.Group at 0x257b27a4780>]]"
      ]
     },
     "execution_count": 13,
     "metadata": {},
     "output_type": "execute_result"
    }
   ],
   "source": [
    "pairs"
   ]
  },
  {
   "cell_type": "code",
   "execution_count": 12,
   "metadata": {},
   "outputs": [],
   "source": [
    "for i in range(len(pairs)):\n",
    "    board = draw.visualize(img, pairs[i][0].compos_dataframe, resize_shape=img_shape)\n",
    "    board = draw.visualize(board, pairs[i][1].compos_dataframe)"
   ]
  },
  {
   "cell_type": "code",
   "execution_count": null,
   "metadata": {},
   "outputs": [],
   "source": []
  }
 ],
 "metadata": {
  "kernelspec": {
   "display_name": "Python 3",
   "language": "python",
   "name": "python3"
  },
  "language_info": {
   "codemirror_mode": {
    "name": "ipython",
    "version": 3
   },
   "file_extension": ".py",
   "mimetype": "text/x-python",
   "name": "python",
   "nbconvert_exporter": "python",
   "pygments_lexer": "ipython3",
   "version": "3.5.6"
  }
 },
 "nbformat": 4,
 "nbformat_minor": 2
}
