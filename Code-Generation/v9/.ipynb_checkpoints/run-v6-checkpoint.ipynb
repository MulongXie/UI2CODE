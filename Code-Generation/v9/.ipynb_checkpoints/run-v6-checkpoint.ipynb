{
 "cells": [
  {
   "cell_type": "code",
   "execution_count": 1,
   "metadata": {},
   "outputs": [],
   "source": [
    "import numpy as np\n",
    "import pandas as pd\n",
    "\n",
    "from obj.Compos_DF import ComposDF\n",
    "from obj.Compo_HTML import *\n",
    "from obj.List import *\n",
    "from obj.Block import *\n",
    "import lib.draw as draw\n",
    "from obj.Page import Page"
   ]
  },
  {
   "cell_type": "code",
   "execution_count": 7,
   "metadata": {},
   "outputs": [],
   "source": [
    "name = 'data/9'\n",
    "compos = ComposDF(name + '.json', name + '.png')\n",
    "img = compos.img.copy()\n",
    "img_shape = compos.img_shape\n",
    "img_re = cv2.resize(img, img_shape)"
   ]
  },
  {
   "cell_type": "code",
   "execution_count": null,
   "metadata": {
    "scrolled": true
   },
   "outputs": [],
   "source": [
    "# ***Step 1*** repetitive list recognition\n",
    "compos.repetitive_group_recognition()    # group_nontext, group_text\n",
    "compos.pair_groups()                     # group_pair, pair_to, group\n",
    "compos.list_item_partition()             # list_item\n",
    "compos.visualize_block('group')\n",
    "compos.visualize_block('group_pair')"
   ]
  },
  {
   "cell_type": "code",
   "execution_count": 5,
   "metadata": {},
   "outputs": [
    {
     "data": {
      "text/html": [
       "<div>\n",
       "<style scoped>\n",
       "    .dataframe tbody tr th:only-of-type {\n",
       "        vertical-align: middle;\n",
       "    }\n",
       "\n",
       "    .dataframe tbody tr th {\n",
       "        vertical-align: top;\n",
       "    }\n",
       "\n",
       "    .dataframe thead th {\n",
       "        text-align: right;\n",
       "    }\n",
       "</style>\n",
       "<table border=\"1\" class=\"dataframe\">\n",
       "  <thead>\n",
       "    <tr style=\"text-align: right;\">\n",
       "      <th></th>\n",
       "      <th>id</th>\n",
       "      <th>column_min</th>\n",
       "      <th>column_max</th>\n",
       "      <th>row_min</th>\n",
       "      <th>row_max</th>\n",
       "      <th>center</th>\n",
       "      <th>center_column</th>\n",
       "      <th>center_row</th>\n",
       "      <th>height</th>\n",
       "      <th>width</th>\n",
       "      <th>area</th>\n",
       "      <th>class</th>\n",
       "      <th>alignment_in_group</th>\n",
       "      <th>group</th>\n",
       "      <th>pair_to</th>\n",
       "      <th>group_pair</th>\n",
       "      <th>list_item</th>\n",
       "    </tr>\n",
       "  </thead>\n",
       "  <tbody>\n",
       "    <tr>\n",
       "      <th>30</th>\n",
       "      <td>30</td>\n",
       "      <td>540</td>\n",
       "      <td>559</td>\n",
       "      <td>235</td>\n",
       "      <td>251</td>\n",
       "      <td>(549.5, 243.0)</td>\n",
       "      <td>549.5</td>\n",
       "      <td>243.0</td>\n",
       "      <td>16</td>\n",
       "      <td>19</td>\n",
       "      <td>304</td>\n",
       "      <td>Compo</td>\n",
       "      <td>h</td>\n",
       "      <td>nt-8</td>\n",
       "      <td>34</td>\n",
       "      <td>3</td>\n",
       "      <td>30</td>\n",
       "    </tr>\n",
       "    <tr>\n",
       "      <th>31</th>\n",
       "      <td>31</td>\n",
       "      <td>461</td>\n",
       "      <td>479</td>\n",
       "      <td>236</td>\n",
       "      <td>251</td>\n",
       "      <td>(470.0, 243.5)</td>\n",
       "      <td>470.0</td>\n",
       "      <td>243.5</td>\n",
       "      <td>15</td>\n",
       "      <td>18</td>\n",
       "      <td>270</td>\n",
       "      <td>Compo</td>\n",
       "      <td>h</td>\n",
       "      <td>nt-8</td>\n",
       "      <td>25</td>\n",
       "      <td>3</td>\n",
       "      <td>25</td>\n",
       "    </tr>\n",
       "    <tr>\n",
       "      <th>32</th>\n",
       "      <td>32</td>\n",
       "      <td>581</td>\n",
       "      <td>599</td>\n",
       "      <td>236</td>\n",
       "      <td>251</td>\n",
       "      <td>(590.0, 243.5)</td>\n",
       "      <td>590.0</td>\n",
       "      <td>243.5</td>\n",
       "      <td>15</td>\n",
       "      <td>18</td>\n",
       "      <td>270</td>\n",
       "      <td>Compo</td>\n",
       "      <td>h</td>\n",
       "      <td>nt-8</td>\n",
       "      <td>28</td>\n",
       "      <td>3</td>\n",
       "      <td>28</td>\n",
       "    </tr>\n",
       "    <tr>\n",
       "      <th>33</th>\n",
       "      <td>33</td>\n",
       "      <td>460</td>\n",
       "      <td>478</td>\n",
       "      <td>254</td>\n",
       "      <td>259</td>\n",
       "      <td>(469.0, 256.5)</td>\n",
       "      <td>469.0</td>\n",
       "      <td>256.5</td>\n",
       "      <td>5</td>\n",
       "      <td>18</td>\n",
       "      <td>90</td>\n",
       "      <td>Compo</td>\n",
       "      <td>h</td>\n",
       "      <td>nt-7</td>\n",
       "      <td>31</td>\n",
       "      <td>3</td>\n",
       "      <td>25</td>\n",
       "    </tr>\n",
       "  </tbody>\n",
       "</table>\n",
       "</div>"
      ],
      "text/plain": [
       "    id  column_min  column_max  row_min  row_max          center  \\\n",
       "30  30         540         559      235      251  (549.5, 243.0)   \n",
       "31  31         461         479      236      251  (470.0, 243.5)   \n",
       "32  32         581         599      236      251  (590.0, 243.5)   \n",
       "33  33         460         478      254      259  (469.0, 256.5)   \n",
       "\n",
       "    center_column  center_row  height  width  area  class alignment_in_group  \\\n",
       "30          549.5       243.0      16     19   304  Compo                  h   \n",
       "31          470.0       243.5      15     18   270  Compo                  h   \n",
       "32          590.0       243.5      15     18   270  Compo                  h   \n",
       "33          469.0       256.5       5     18    90  Compo                  h   \n",
       "\n",
       "   group  pair_to  group_pair  list_item  \n",
       "30  nt-8       34           3         30  \n",
       "31  nt-8       25           3         25  \n",
       "32  nt-8       28           3         28  \n",
       "33  nt-7       31           3         25  "
      ]
     },
     "execution_count": 5,
     "metadata": {},
     "output_type": "execute_result"
    }
   ],
   "source": [
    "compos.compos_dataframe[30:34]"
   ]
  },
  {
   "cell_type": "code",
   "execution_count": 4,
   "metadata": {},
   "outputs": [],
   "source": [
    "# ***Step 2*** mark compos in same group as a single list, mark compos in same group_pair as a multiple list\n",
    "lists, non_listed_compos = gather_lists_by_pair_and_group(compos.compos_dataframe[1:])\n",
    "generate_lists_html_css(lists)\n",
    "# compos.visualize_block('group')"
   ]
  },
  {
   "cell_type": "code",
   "execution_count": 5,
   "metadata": {
    "scrolled": true
   },
   "outputs": [],
   "source": [
    "# ***Step 3*** slice compos as blocks\n",
    "compos_html = [li.list_obj for li in lists] + non_listed_compos\n",
    "blocks, non_blocked_compos = slice_blocks(compos_html, 'v')\n",
    "visualize_blocks(blocks, img, img_shape)\n",
    "blocks[2].visualize_sub_blocks_and_compos(img_re, recursive=True)"
   ]
  },
  {
   "cell_type": "code",
   "execution_count": 7,
   "metadata": {},
   "outputs": [],
   "source": [
    "# ***Step 4*** assembly html and css as web page\n",
    "page = Page()\n",
    "for block in blocks:\n",
    "    page.add_compo(block.html_script, block.css_script)\n",
    "page.export()"
   ]
  }
 ],
 "metadata": {
  "kernelspec": {
   "display_name": "Python 3",
   "language": "python",
   "name": "python3"
  },
  "language_info": {
   "codemirror_mode": {
    "name": "ipython",
    "version": 3
   },
   "file_extension": ".py",
   "mimetype": "text/x-python",
   "name": "python",
   "nbconvert_exporter": "python",
   "pygments_lexer": "ipython3",
   "version": "3.5.6"
  }
 },
 "nbformat": 4,
 "nbformat_minor": 2
}
