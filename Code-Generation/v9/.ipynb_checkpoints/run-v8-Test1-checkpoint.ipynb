{
 "cells": [
  {
   "cell_type": "code",
   "execution_count": 1,
   "metadata": {},
   "outputs": [],
   "source": [
    "import numpy as np\n",
    "import pandas as pd\n",
    "\n",
    "from obj.Compos_DF import ComposDF\n",
    "from obj.Compo_HTML import *\n",
    "from obj.List import *\n",
    "from obj.Block import *\n",
    "from obj.Group import *\n",
    "import lib.draw as draw\n",
    "from obj.Page import Page"
   ]
  },
  {
   "cell_type": "code",
   "execution_count": 2,
   "metadata": {},
   "outputs": [],
   "source": [
    "name = 'data/9'\n",
    "compos = ComposDF(name + '.json', name + '.png')\n",
    "img = compos.img.copy()\n",
    "img_shape = compos.img_shape\n",
    "img_re = cv2.resize(img, img_shape)"
   ]
  },
  {
   "cell_type": "code",
   "execution_count": 3,
   "metadata": {},
   "outputs": [
    {
     "name": "stdout",
     "output_type": "stream",
     "text": [
      "invalid: t-6\n"
     ]
    }
   ],
   "source": [
    "# ***Step 1*** repetitive list recognition\n",
    "compos.repetitive_group_recognition()    # group_nontext, group_text\n",
    "check_valid_group_by_interleaving(compos.compos_dataframe)\n",
    "compos.pair_groups()                     # group_pair, pair_to, group\n",
    "compos.list_item_partition()             # list_item\n",
    "# compos.visualize_block('group')\n",
    "# compos.visualize_block('group_pair')"
   ]
  },
  {
   "cell_type": "code",
   "execution_count": 4,
   "metadata": {},
   "outputs": [],
   "source": [
    "# ***Step 2*** mark compos in same group as a single list, mark compos in same group_pair as a multiple list\n",
    "lists, non_listed_compos = gather_lists_by_pair_and_group(compos.compos_dataframe[1:])\n",
    "generate_lists_html_css(lists)\n",
    "# visualize_lists(img_re, lists)"
   ]
  },
  {
   "cell_type": "code",
   "execution_count": 5,
   "metadata": {
    "scrolled": true
   },
   "outputs": [],
   "source": [
    "# ***Step 3*** slice compos as blocks\n",
    "compos_html = [li.list_obj for li in lists] + non_listed_compos\n",
    "blocks, non_blocked_compos = slice_blocks(compos_html, 'v')\n",
    "# visualize_CompoHTMLs(compos_html, img_re)\n",
    "# visualize_blocks(blocks, img, img_shape)\n",
    "# blocks[2].visualize_sub_blocks_and_compos(img_re, recursive=True)"
   ]
  },
  {
   "cell_type": "code",
   "execution_count": 6,
   "metadata": {},
   "outputs": [
    {
     "data": {
      "text/plain": [
       "'<div style={this.state.css.div41}>\\n</div>\\n'"
      ]
     },
     "execution_count": 6,
     "metadata": {},
     "output_type": "execute_result"
    }
   ],
   "source": [
    "non_blocked_compos[0].react_script"
   ]
  },
  {
   "cell_type": "code",
   "execution_count": 7,
   "metadata": {},
   "outputs": [
    {
     "name": "stdout",
     "output_type": "stream",
     "text": [
      "<div style={this.state.css.block7}>\n",
      "\t<ul style={this.state.css.ul3}>\n",
      "\t\t<li style={this.state.css.li3}>\n",
      "\t\t\t<div style={this.state.css.nt9}>\n",
      "\t\t\t</div>\n",
      "\t\t\t<div style={this.state.css.t2}>\n",
      "\t\t\t</div>\n",
      "\t\t</li>\n",
      "\t\t<li style={this.state.css.li3}>\n",
      "\t\t\t<div style={this.state.css.nt9}>\n",
      "\t\t\t</div>\n",
      "\t\t\t<div style={this.state.css.t2}>\n",
      "\t\t\t</div>\n",
      "\t\t</li>\n",
      "\t\t<li style={this.state.css.li3}>\n",
      "\t\t\t<div style={this.state.css.nt9}>\n",
      "\t\t\t</div>\n",
      "\t\t\t<div style={this.state.css.t2}>\n",
      "\t\t\t</div>\n",
      "\t\t</li>\n",
      "\t\t<li style={this.state.css.li3}>\n",
      "\t\t\t<div style={this.state.css.nt9}>\n",
      "\t\t\t</div>\n",
      "\t\t\t<div style={this.state.css.t2}>\n",
      "\t\t\t</div>\n",
      "\t\t</li>\n",
      "\t\t<li style={this.state.css.li3}>\n",
      "\t\t\t<div style={this.state.css.nt9}>\n",
      "\t\t\t</div>\n",
      "\t\t\t<div style={this.state.css.t2}>\n",
      "\t\t\t</div>\n",
      "\t\t</li>\n",
      "\t</ul>\n",
      "\t<ul style={this.state.css.ul2}>\n",
      "\t\t<li style={this.state.css.li2}>\n",
      "\t\t\t<div style={this.state.css.t1}>\n",
      "\t\t\t</div>\n",
      "\t\t\t<div style={this.state.css.nt8}>\n",
      "\t\t\t</div>\n",
      "\t\t\t<div style={this.state.css.nt7}>\n",
      "\t\t\t</div>\n",
      "\t\t</li>\n",
      "\t\t<li style={this.state.css.li2}>\n",
      "\t\t\t<div style={this.state.css.t1}>\n",
      "\t\t\t</div>\n",
      "\t\t\t<div style={this.state.css.nt8}>\n",
      "\t\t\t</div>\n",
      "\t\t</li>\n",
      "\t\t<li style={this.state.css.li2}>\n",
      "\t\t\t<div style={this.state.css.t1}>\n",
      "\t\t\t</div>\n",
      "\t\t\t<div style={this.state.css.nt8}>\n",
      "\t\t\t</div>\n",
      "\t\t\t<div style={this.state.css.nt7}>\n",
      "\t\t\t</div>\n",
      "\t\t</li>\n",
      "\t\t<li style={this.state.css.li2}>\n",
      "\t\t\t<div style={this.state.css.t1}>\n",
      "\t\t\t</div>\n",
      "\t\t\t<div style={this.state.css.nt8}>\n",
      "\t\t\t</div>\n",
      "\t\t\t<div style={this.state.css.nt7}>\n",
      "\t\t\t</div>\n",
      "\t\t</li>\n",
      "\t</ul>\n",
      "</div>\n",
      "\n"
     ]
    }
   ],
   "source": [
    "print(blocks[3].react.react_script)"
   ]
  },
  {
   "cell_type": "code",
   "execution_count": 10,
   "metadata": {},
   "outputs": [
    {
     "name": "stdout",
     "output_type": "stream",
     "text": [
      "class extends React.Component{\n",
      "\tconstructor(){\n",
      "\t\tsuper();\n",
      "\n",
      "\t\tthis.state = {css:{\n",
      "\t\t\tli3:{\n",
      "\t\t\t\tfloat: left,\n",
      "\t\t\t\tmargin-left: 4px,\n",
      "\t\t\t\theight: 51px\n",
      "\t\t\t},\n",
      "\t\t\t\n",
      "\t\t\tt2:{\n",
      "\t\t\t\theight: 13px,\n",
      "\t\t\t\twidth: 73px,\n",
      "\t\t\t\tbackground: green,\n",
      "\t\t\t\tmargin-top: 1px\n",
      "\t\t\t},\n",
      "\t\t\t\n",
      "\t\t\tli2:{\n",
      "\t\t\t\tfloat: left,\n",
      "\t\t\t\tmargin-left: 21px,\n",
      "\t\t\t\theight: 30px\n",
      "\t\t\t},\n",
      "\t\t\t\n",
      "\t\t\tblock7:{\n",
      "\t\t\t\tclear: left,\n",
      "\t\t\t\tborder: solid 2px black,\n",
      "\t\t\t\tmargin-bottom: 5px\n",
      "\t\t\t},\n",
      "\t\t\t\n",
      "\t\t\tnt8:{\n",
      "\t\t\t\theight: 17px,\n",
      "\t\t\t\twidth: 18px,\n",
      "\t\t\t\tbackground: grey,\n",
      "\t\t\t\tmargin-top: 5px\n",
      "\t\t\t},\n",
      "\t\t\t\n",
      "\t\t\tul3:{\n",
      "\t\t\t\tfloat: left\n",
      "\t\t\t},\n",
      "\t\t\t\n",
      "\t\t\tnt7:{\n",
      "\t\t\t\theight: 5px,\n",
      "\t\t\t\twidth: 15px,\n",
      "\t\t\t\tbackground: grey,\n",
      "\t\t\t\tmargin-top: -5px\n",
      "\t\t\t},\n",
      "\t\t\t\n",
      "\t\t\tt1:{\n",
      "\t\t\t\theight: 6px,\n",
      "\t\t\t\twidth: 12px,\n",
      "\t\t\t\tbackground: green\n",
      "\t\t\t},\n",
      "\t\t\t\n",
      "\t\t\tnt9:{\n",
      "\t\t\t\theight: 37px,\n",
      "\t\t\t\twidth: 78px,\n",
      "\t\t\t\tbackground: grey\n",
      "\t\t\t},\n",
      "\t\t\t\n",
      "\t\t\tul2:{\n",
      "\t\t\t\tfloat: left,\n",
      "\t\t\t\tclear: none,\n",
      "\t\t\t\tpadding-left: 27px\n",
      "\t\t\t}\n",
      "\t\t}\n",
      "\t}\n",
      "\trender(){\n",
      "\t\treturn (\n",
      "\t\t\t<div style={this.state.css.block7}>\n",
      "\t\t\t\t<ul style={this.state.css.ul3}>\n",
      "\t\t\t\t\t<li style={this.state.css.li3}>\n",
      "\t\t\t\t\t\t<div style={this.state.css.nt9}>\n",
      "\t\t\t\t\t\t</div>\n",
      "\t\t\t\t\t\t<div style={this.state.css.t2}>\n",
      "\t\t\t\t\t\t</div>\n",
      "\t\t\t\t\t</li>\n",
      "\t\t\t\t\t<li style={this.state.css.li3}>\n",
      "\t\t\t\t\t\t<div style={this.state.css.nt9}>\n",
      "\t\t\t\t\t\t</div>\n",
      "\t\t\t\t\t\t<div style={this.state.css.t2}>\n",
      "\t\t\t\t\t\t</div>\n",
      "\t\t\t\t\t</li>\n",
      "\t\t\t\t\t<li style={this.state.css.li3}>\n",
      "\t\t\t\t\t\t<div style={this.state.css.nt9}>\n",
      "\t\t\t\t\t\t</div>\n",
      "\t\t\t\t\t\t<div style={this.state.css.t2}>\n",
      "\t\t\t\t\t\t</div>\n",
      "\t\t\t\t\t</li>\n",
      "\t\t\t\t\t<li style={this.state.css.li3}>\n",
      "\t\t\t\t\t\t<div style={this.state.css.nt9}>\n",
      "\t\t\t\t\t\t</div>\n",
      "\t\t\t\t\t\t<div style={this.state.css.t2}>\n",
      "\t\t\t\t\t\t</div>\n",
      "\t\t\t\t\t</li>\n",
      "\t\t\t\t\t<li style={this.state.css.li3}>\n",
      "\t\t\t\t\t\t<div style={this.state.css.nt9}>\n",
      "\t\t\t\t\t\t</div>\n",
      "\t\t\t\t\t\t<div style={this.state.css.t2}>\n",
      "\t\t\t\t\t\t</div>\n",
      "\t\t\t\t\t</li>\n",
      "\t\t\t\t</ul>\n",
      "\t\t\t\t<ul style={this.state.css.ul2}>\n",
      "\t\t\t\t\t<li style={this.state.css.li2}>\n",
      "\t\t\t\t\t\t<div style={this.state.css.t1}>\n",
      "\t\t\t\t\t\t</div>\n",
      "\t\t\t\t\t\t<div style={this.state.css.nt8}>\n",
      "\t\t\t\t\t\t</div>\n",
      "\t\t\t\t\t\t<div style={this.state.css.nt7}>\n",
      "\t\t\t\t\t\t</div>\n",
      "\t\t\t\t\t</li>\n",
      "\t\t\t\t\t<li style={this.state.css.li2}>\n",
      "\t\t\t\t\t\t<div style={this.state.css.t1}>\n",
      "\t\t\t\t\t\t</div>\n",
      "\t\t\t\t\t\t<div style={this.state.css.nt8}>\n",
      "\t\t\t\t\t\t</div>\n",
      "\t\t\t\t\t</li>\n",
      "\t\t\t\t\t<li style={this.state.css.li2}>\n",
      "\t\t\t\t\t\t<div style={this.state.css.t1}>\n",
      "\t\t\t\t\t\t</div>\n",
      "\t\t\t\t\t\t<div style={this.state.css.nt8}>\n",
      "\t\t\t\t\t\t</div>\n",
      "\t\t\t\t\t\t<div style={this.state.css.nt7}>\n",
      "\t\t\t\t\t\t</div>\n",
      "\t\t\t\t\t</li>\n",
      "\t\t\t\t\t<li style={this.state.css.li2}>\n",
      "\t\t\t\t\t\t<div style={this.state.css.t1}>\n",
      "\t\t\t\t\t\t</div>\n",
      "\t\t\t\t\t\t<div style={this.state.css.nt8}>\n",
      "\t\t\t\t\t\t</div>\n",
      "\t\t\t\t\t\t<div style={this.state.css.nt7}>\n",
      "\t\t\t\t\t\t</div>\n",
      "\t\t\t\t\t</li>\n",
      "\t\t\t\t</ul>\n",
      "\t\t\t</div>\n",
      "\t\t\t\n",
      "\t\t)\n",
      "\t}\n",
      "}\n",
      "\n"
     ]
    }
   ],
   "source": [
    "blk = blocks[3]\n",
    "react = blk.react.assembly_react(blk.css)\n",
    "print(react)"
   ]
  },
  {
   "cell_type": "code",
   "execution_count": 12,
   "metadata": {},
   "outputs": [
    {
     "data": {
      "text/plain": [
       "7"
      ]
     },
     "execution_count": 12,
     "metadata": {},
     "output_type": "execute_result"
    }
   ],
   "source": [
    "blk.block_id"
   ]
  },
  {
   "cell_type": "code",
   "execution_count": null,
   "metadata": {},
   "outputs": [],
   "source": []
  },
  {
   "cell_type": "code",
   "execution_count": null,
   "metadata": {},
   "outputs": [],
   "source": []
  },
  {
   "cell_type": "code",
   "execution_count": 6,
   "metadata": {},
   "outputs": [],
   "source": [
    "visualize_CompoHTMLs(compos_html, img_re)"
   ]
  },
  {
   "cell_type": "code",
   "execution_count": 7,
   "metadata": {},
   "outputs": [],
   "source": [
    "# ***Step 4*** assembly html and css as web page\n",
    "page = Page()\n",
    "for block in blocks:\n",
    "    page.add_compo(block.html_script, block.css_script)\n",
    "page.export()"
   ]
  }
 ],
 "metadata": {
  "kernelspec": {
   "display_name": "Python 3",
   "language": "python",
   "name": "python3"
  },
  "language_info": {
   "codemirror_mode": {
    "name": "ipython",
    "version": 3
   },
   "file_extension": ".py",
   "mimetype": "text/x-python",
   "name": "python",
   "nbconvert_exporter": "python",
   "pygments_lexer": "ipython3",
   "version": "3.5.6"
  }
 },
 "nbformat": 4,
 "nbformat_minor": 2
}
