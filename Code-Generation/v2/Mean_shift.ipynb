{
 "cells": [
  {
   "cell_type": "code",
   "execution_count": 1,
   "metadata": {},
   "outputs": [],
   "source": [
    "import json\n",
    "import pandas as pd\n",
    "import numpy as np\n",
    "import matplotlib.pyplot as plt\n",
    "import cv2"
   ]
  },
  {
   "cell_type": "code",
   "execution_count": 3,
   "metadata": {},
   "outputs": [],
   "source": [
    "compos = json.load(open('data/9.json'))['compos']\n",
    "df = pd.DataFrame(columns=['id', 'column_min', 'column_max', 'row_min', 'row_max', 'height', 'width', 'class', 'area'])\n",
    "for i, compo in enumerate(compos):\n",
    "    compo['area'] = compo['height'] * compo['width']\n",
    "    df.loc[i] = compo\n",
    "df = df[df['class'] != 'TextView']"
   ]
  },
  {
   "cell_type": "code",
   "execution_count": 4,
   "metadata": {},
   "outputs": [],
   "source": [
    "x = df.drop(columns=['id', 'class'])\n",
    "x = x.values\n",
    "# x = np.reshape(list(df.area), (-1,1))"
   ]
  },
  {
   "cell_type": "code",
   "execution_count": 5,
   "metadata": {},
   "outputs": [],
   "source": [
    "from sklearn.cluster import MeanShift\n",
    "clustering = MeanShift().fit(x)\n",
    "df['cluster'] = clustering.labels_"
   ]
  },
  {
   "cell_type": "code",
   "execution_count": 6,
   "metadata": {},
   "outputs": [],
   "source": [
    "import cv2\n",
    "img_h, img_w = df.iloc[0].height, df.iloc[0].width\n",
    "img = cv2.resize(cv2.imread('data/9.png'), (img_w, img_h))"
   ]
  },
  {
   "cell_type": "code",
   "execution_count": 7,
   "metadata": {},
   "outputs": [],
   "source": [
    "board = img.copy()\n",
    "for i in range(len(df)):\n",
    "    compo = df.iloc[i]\n",
    "    board = cv2.rectangle(board, (compo.column_min, compo.row_min), (compo.column_max, compo.row_max), (255,0,0))\n",
    "    board = cv2.putText(board, str(compo.cluster), (compo.column_min+5, compo.row_min+20), cv2.FONT_HERSHEY_SIMPLEX, 0.5, (0,0,255), 1)"
   ]
  },
  {
   "cell_type": "code",
   "execution_count": 8,
   "metadata": {},
   "outputs": [],
   "source": [
    "cv2.imshow('board', board)\n",
    "cv2.waitKey()\n",
    "cv2.destroyAllWindows()"
   ]
  }
 ],
 "metadata": {
  "kernelspec": {
   "display_name": "Python 3",
   "language": "python",
   "name": "python3"
  },
  "language_info": {
   "codemirror_mode": {
    "name": "ipython",
    "version": 3
   },
   "file_extension": ".py",
   "mimetype": "text/x-python",
   "name": "python",
   "nbconvert_exporter": "python",
   "pygments_lexer": "ipython3",
   "version": "3.5.6"
  }
 },
 "nbformat": 4,
 "nbformat_minor": 2
}
